{
  "nbformat": 4,
  "nbformat_minor": 0,
  "metadata": {
    "colab": {
      "provenance": [],
      "toc_visible": true,
      "include_colab_link": true
    },
    "kernelspec": {
      "name": "python3",
      "display_name": "Python 3"
    },
    "language_info": {
      "name": "python"
    }
  },
  "cells": [
    {
      "cell_type": "markdown",
      "metadata": {
        "id": "view-in-github",
        "colab_type": "text"
      },
      "source": [
        "<a href=\"https://colab.research.google.com/github/bryancrigger/IST664---Natural-Language-Processing/blob/main/NLP_Project_Detecting_SPAM_Emails_with_NLP_v2.ipynb\" target=\"_parent\"><img src=\"https://colab.research.google.com/assets/colab-badge.svg\" alt=\"Open In Colab\"/></a>"
      ]
    },
    {
      "cell_type": "markdown",
      "source": [
        "# Overview"
      ],
      "metadata": {
        "id": "BcNosxnrAGZM"
      }
    },
    {
      "cell_type": "markdown",
      "source": [
        "For this project, the team was provided with a dataset from the Enron public email corpus. The corpus consisted primarily of legitimate emails with some spam emails already present in the corpus. Additional spam emails were added into the email corpus in order to have a sufficient number of spam examples to train a classifier. \n",
        "\n",
        "The goal of the project was to determine the most effective features and models to classify spam versus legitimate emails. Throughout the course of the project, legitimate emails are refered to as \"ham\" emails. The process required the team to develop features that were applied to the the spam/ham email classification task and to demonstrate, through the use of experiments, which sets of features and models are most effective in classifying the email data.\n",
        "\n",
        "To complete the required tasks in this project, the team used Python scripting in combination with various Python libraries. The primary libraries used in this project include: pandas, numpy, nltk, graphviz, matplotlib, sklearn, and tensorflow."
      ],
      "metadata": {
        "id": "7uTjrbp-_3Ni"
      }
    },
    {
      "cell_type": "markdown",
      "source": [
        "# STEP 1: DATA PROCESSING"
      ],
      "metadata": {
        "id": "Zo8017DM_C8U"
      }
    },
    {
      "cell_type": "markdown",
      "source": [
        "Before training classification models or running feature functions, the team processed and cleaned the data in order to ensure classification tasks used the highest quality and most standard data possible for training and testing. \n",
        "\n",
        "The first step in data processing was importing the required libraries, modules, and packages into our Python script."
      ],
      "metadata": {
        "id": "Upv97F-ECc0f"
      }
    },
    {
      "cell_type": "markdown",
      "source": [
        "## Importing required libraries, module, and packages"
      ],
      "metadata": {
        "id": "exRAC0lni_VD"
      }
    },
    {
      "cell_type": "code",
      "source": [
        "# Import libraries\n",
        "\n",
        "# pip install graphviz\n",
        "# pip install pydotplus\n",
        "\n",
        "import numpy as np\n",
        "import pandas as pd\n",
        "import sklearn\n",
        "import nltk\n",
        "import re\n",
        "import os\n",
        "import sys\n",
        "import random as rd\n",
        "import graphviz\n",
        "import matplotlib.pyplot as plt\n",
        "import pydotplus\n",
        "import seaborn as sns\n",
        "import string\n",
        "\n",
        "from nltk.probability import FreqDist\n",
        "from nltk.corpus import stopwords, sentence_polarity\n",
        "from nltk.tokenize import sent_tokenize, word_tokenize\n",
        "from nltk.stem.porter import PorterStemmer\n",
        "from nltk.collocations import*\n",
        "from nltk.sentiment import SentimentIntensityAnalyzer\n",
        "nltk.download('vader_lexicon')\n",
        "nltk.download('stopwords')\n",
        "\n",
        "from sklearn import preprocessing\n",
        "from sklearn.feature_extraction.text import CountVectorizer, TfidfVectorizer\n",
        "from sklearn.model_selection import train_test_split\n",
        "from sklearn.naive_bayes import MultinomialNB, BernoulliNB, GaussianNB\n",
        "from sklearn.metrics import confusion_matrix, accuracy_score\n",
        "from sklearn import tree\n",
        "from sklearn.tree import DecisionTreeClassifier, plot_tree\n",
        "from sklearn.svm import LinearSVC\n",
        "from sklearn import svm\n",
        "from sklearn.decomposition import PCA\n",
        "from sklearn.tree import export_graphviz  \n",
        "from sklearn.ensemble import RandomForestClassifier\n",
        "from sklearn.datasets import make_classification\n",
        "from sklearn.pipeline import Pipeline\n",
        "\n",
        "from IPython.display import Image\n",
        "from wordcloud import WordCloud\n",
        "from google.colab import drive\n",
        "# drive.mount('/content/drive')\n",
        "\n",
        "import tensorflow as tf\n",
        "from tensorflow.keras.preprocessing.text import Tokenizer\n",
        "from tensorflow.keras.preprocessing.sequence import pad_sequences\n",
        "from keras.callbacks import EarlyStopping, ReduceLROnPlateau\n",
        " \n",
        "# import warnings\n",
        "# warnings.filterwarnings('ignore')"
      ],
      "metadata": {
        "id": "yvsKeTju3tty",
        "colab": {
          "base_uri": "https://localhost:8080/"
        },
        "outputId": "e7d91bc2-7371-4be0-b92b-94a2e2deb87c"
      },
      "execution_count": null,
      "outputs": [
        {
          "output_type": "stream",
          "name": "stderr",
          "text": [
            "[nltk_data] Downloading package vader_lexicon to /root/nltk_data...\n",
            "[nltk_data]   Package vader_lexicon is already up-to-date!\n",
            "[nltk_data] Downloading package stopwords to /root/nltk_data...\n",
            "[nltk_data]   Package stopwords is already up-to-date!\n"
          ]
        }
      ]
    },
    {
      "cell_type": "markdown",
      "source": [
        "## Data Pre-processing"
      ],
      "metadata": {
        "id": "DvAIab_WCdm0"
      }
    },
    {
      "cell_type": "markdown",
      "source": [
        "In the processSpamHam function, the team converted the data from the provided .txt files to a workable format. The team began this process using a base of the code provided in the FinalProjectData.zip. Some of the original code was altered to return additional lists that were required for later cleaning and filtering of the data. "
      ],
      "metadata": {
        "id": "HWfzYargCmqr"
      }
    },
    {
      "cell_type": "code",
      "source": [
        "##TEXT PRE-PROCESSING - Reading in the data and making it into a compatible format\n",
        "\n",
        "'''\n",
        "  This program shell reads email data for the spam classification problem.\n",
        "  The input to the program is the path to the Email directory \"corpus\" and a limit number.\n",
        "\n",
        "  Usage:  python classifySPAM.py  <corpus directory path> <limit number>\n",
        "'''\n",
        "\n",
        "#dirPath = '/Users/aannick/Documents/Grad School/IST664/FinalProject/FinalProjectData/EmailSpamCorpora/corpus'\n",
        "\n",
        "# function to read spam and ham files, train and test a classifier \n",
        "def processSpamHam(dirPath,limitStr):\n",
        "  # convert the limit argument from a string to an int\n",
        "  limit = int(limitStr)\n",
        "  # initialize lists for spam and ham email texts\n",
        "  hamtexts = []\n",
        "  spamtexts = []\n",
        "  os.chdir(dirPath)\n",
        "  # process all files in directory that end in .txt up to the provided limit\n",
        "  #    assuming that the emails are sufficiently randomized\n",
        "  # output: spamtexts, hamtexts\n",
        "  #    list in which each list item is an entire email stored in one string\n",
        "  for file in os.listdir(\"./spam\"):\n",
        "    if (file.endswith(\".txt\")) and (len(spamtexts) < limit):\n",
        "      # open file for reading and read entire file into a string\n",
        "      f = open(\"./spam/\"+file, 'r', encoding=\"latin-1\")\n",
        "      spamtexts.append (f.read())\n",
        "      f.close()\n",
        "  for file in os.listdir(\"./ham\"):\n",
        "    if (file.endswith(\".txt\")) and (len(hamtexts) < limit):\n",
        "      # open file for reading and read entire file into a string\n",
        "      f = open(\"./ham/\"+file, 'r', encoding=\"latin-1\")\n",
        "      hamtexts.append (f.read())\n",
        "      f.close()\n",
        "\n",
        "  # print number emails read\n",
        "  print (\"Number of spam files:\",len(spamtexts))\n",
        "  print (\"Number of ham files:\",len(hamtexts))\n",
        "\n",
        "  # output: emaildocs\n",
        "  #     single list of mixed spam and ham email documents as\n",
        "  #     list items are: (list of tokenized words, label)\n",
        "  emaildocs = []\n",
        "  # add the spam\n",
        "  for spam in spamtexts:\n",
        "    tokens = nltk.word_tokenize(spam)\n",
        "    emaildocs.append((tokens, 'spam'))\n",
        "  # add the ham\n",
        "  for ham in hamtexts:\n",
        "    tokens = nltk.word_tokenize(ham)\n",
        "    emaildocs.append((tokens, 'ham'))\n",
        "  \n",
        "  # randomize the list\n",
        "  random.shuffle(emaildocs)\n",
        "  \n",
        "  # print a few token lists\n",
        "  \"\"\"\n",
        "  for email in emaildocs[:4]:\n",
        "    print (email)\n",
        "    print\n",
        "  \"\"\"\n",
        "\n",
        "  return(emaildocs, spamtexts, hamtexts)"
      ],
      "metadata": {
        "id": "HEFBj3R_AQa-"
      },
      "execution_count": null,
      "outputs": []
    },
    {
      "cell_type": "markdown",
      "source": [
        "## Tokenizing and filtering: lowercase, regex, stopword removal"
      ],
      "metadata": {
        "id": "WZ06Rhq-ku-_"
      }
    },
    {
      "cell_type": "markdown",
      "source": [
        "In the cleanUpCleanUp function, the team tokenized and filtered, then removed stopwords from the data. This function starts by changing all email text to lowercase and tokenizing the emails. Then it filters all symbols and numbers from the emails. Next, it removes the stop word list from the email text. And, finally, it returns nine slightly varied lists to be used in later functions.\n",
        "\n",
        "The first set of lists return just the tokenized emails with their \"spam\" or \"ham\" label. One list is only the ham emails (hamTokens), one list is only the spam emails (spamTokens), and one list is a shuffled combination of both the spam and the ham emails (emaildocsTokenized).\n",
        "\n",
        "The second set of lists return the tokenized emails, labeled \"spam\" or \"ham,\" with all symbols and numbers removed. One list is only the ham emails with symbols/numbers removed (hamAlpha), one list is only the spam emails with symbols/numbers removed (spamAlpha), and one list is a shuffled combination of both the spam and the ham emails with symbols/numbers removed (emaildocsAlpha).\n",
        "\n",
        "The third set of lists return the tokenized emails, labeled \"spam\" or \"ham,\" with all symbols/numbers removed and with stop words removed as specified in the \"stopwords\" list. \n",
        "\n",
        "The team chose to use to nltk provided \"english\" stopword list with the goal of creating a classification framework that could be applied to all emails, not just the emails provided in this corpus. If the team had used a bespoke stop word list, created specifically from this dataset, it is likely the stop word list would not be as effective if new emails were added to the corpus. By using the provided NLTK \"english\" stop word list, which was created using a much broader corpus, the team ensured that this Python framework would be effective even if completely different email corpus data is plugged into the script. \n",
        "\n",
        "In addition to the NLTK \"english\" stop word list, the team intentionally removed common names that were found in the \"To:\" lines of the emails. This decision was made so that this scripting framework does not base classification decisions off of email recipients as such data will not necessarily remain an accurate method of classification if the email corpus is altered. \n",
        "\n",
        "Though for this project the team chose to use the provided NLTK \"english\" stop word list, the team included commented-out code that can be used to load a specific stop word file, if desired.\n",
        "\n",
        "Similar to the above sets, there are three lists returned after tokenizing, filtering, and removing stopwords; one with only ham emails (hamStop), one with only spam emails (spamStop), and one with a shuffled combination of both the spam and the ham emails (emaildocsStop)."
      ],
      "metadata": {
        "id": "gqO2Gj-OCr5K"
      }
    },
    {
      "cell_type": "code",
      "source": [
        "def cleanUpCleanUp(emaildocs):\n",
        "  # everybody do your share, everybody everywhere\n",
        "\n",
        "  # output: spamTokens, hamTokens\n",
        "  #     each list will contain tokenized words sorted by spam or ham\n",
        "\n",
        "  # initialize word lists for all tokenized words from master emaildocs list\n",
        "  # make everything lowercase for more accurate frequency analysis\n",
        "  spamTokens = []\n",
        "  hamTokens = []\n",
        "  emaildocsTokenized = []\n",
        "  for item in emaildocs:\n",
        "    email = item[0]\n",
        "    if item[1] == \"spam\":\n",
        "      for word in email:\n",
        "        spamTokens.append(word.lower())\n",
        "    else:\n",
        "      for word in email:\n",
        "        hamTokens.append(word.lower())\n",
        "\n",
        "  tokenList = []\n",
        "  for item in emaildocs:\n",
        "    email = item[0]\n",
        "    for word in email:\n",
        "      tokenList.append(word.lower())\n",
        "    emaildocsTokenized.append((tokenList,item[1]))\n",
        "    tokenList = []\n",
        "\n",
        "  # regex filter\n",
        "  # output: spamAlpha, hamAlpha\n",
        "  #     each list will contain only words with all alphabetized chars sorted by spam or ham\n",
        "  # initialize word lists for alpha words\n",
        "  spamAlpha = []\n",
        "  hamAlpha = []\n",
        "  emaildocsAlpha = []\n",
        "  pattern = re.compile('^[^a-z]+$')\n",
        "  for word in hamTokens:\n",
        "    if not pattern.match(word):\n",
        "      hamAlpha.append(word)\n",
        "  for word in spamTokens:\n",
        "    if not pattern.match(word):\n",
        "      spamAlpha.append(word)\n",
        "\n",
        "  alphaList = []\n",
        "  for item in emaildocsTokenized:\n",
        "    emailTokenList = item[0]\n",
        "    for word in emailTokenList:\n",
        "      if not pattern.match(word):\n",
        "        alphaList.append(word)\n",
        "    emaildocsAlpha.append((alphaList,item[1]))\n",
        "    alphaList = [] \n",
        "\n",
        "  # checkout default stopword file to see if it will accomplish desired goals\n",
        "  nltk.download('stopwords')\n",
        "  nltkStopwords = nltk.corpus.stopwords.words('english')\n",
        "  # print(nltkStopwords)\n",
        "\n",
        "  #adding some of our own stopwords to tailor the list to our needs\n",
        "  # specifically, adding names of recipients that are showing up in most frequent\n",
        "  # removing recipients so that this is helpful to all bodies of email, not just ones with those names\n",
        "  moreStopwords = ['daren','hou','ect','subject','could','would','might','must','need','sha','wo','y',\"'s\",\"'d\",\"'ll\",\"'t\",\"'m\",\"'re\",\"'ve\"]\n",
        "  stopwords = nltkStopwords + moreStopwords\n",
        "\n",
        "  # using the list filtered for just alphabetic chars\n",
        "  hamStop = [w for w in hamAlpha if not w in stopwords]\n",
        "  spamStop = [w for w in spamAlpha if not w in stopwords]\n",
        "\n",
        "  emaildocsStop = []\n",
        "  for item in emaildocsAlpha:\n",
        "    emailTokenList = item[0]\n",
        "    stopList = [w for w in emailTokenList if not w in stopwords]\n",
        "    emaildocsStop.append((stopList,item[1]))\n",
        "    stopList = []\n",
        "\n",
        "  # if we want to use our own stopword file, read stop word file\n",
        "  \"\"\"\n",
        "  fstop = open('stopwordFinal.stop','r')\n",
        "  stoptext = fstop.read()\n",
        "  fstop.close()\n",
        "  stopwords = nltk.word_tokenize(stoptext)\n",
        "  \"\"\"\n",
        "  return(hamTokens, spamTokens, emaildocsTokenized, hamAlpha, spamAlpha, emaildocsAlpha, hamStop, spamStop, emaildocsStop)\n"
      ],
      "metadata": {
        "id": "29VoOotKks2C"
      },
      "execution_count": null,
      "outputs": []
    },
    {
      "cell_type": "markdown",
      "source": [
        "#STEP 2: FEATURE ENGINEERING"
      ],
      "metadata": {
        "id": "aSKMPlAY_bGU"
      }
    },
    {
      "cell_type": "markdown",
      "source": [
        "## Feature 1: Frequency Analysis"
      ],
      "metadata": {
        "id": "jZMLEfG4mbFf"
      }
    },
    {
      "cell_type": "code",
      "source": [
        "def frequencyAnalysis(hamList,spamList):\n",
        "  ndist = FreqDist(hamList)\n",
        "  nitems = ndist.most_common(30)\n",
        "  print(\"\\nHam Most Common Words\")\n",
        "  for item in nitems:\n",
        "    print(item[0],'\\t',item[1])\n",
        "  \n",
        "  ndist2 = FreqDist(spamList)\n",
        "  nitems2 = ndist2.most_common(30)\n",
        "  print(\"\\nSpam Most Common Words\")\n",
        "  for item in nitems2:\n",
        "    print(item[0],'\\t',item[1])"
      ],
      "metadata": {
        "id": "Ftzsky5YmYRz"
      },
      "execution_count": null,
      "outputs": []
    },
    {
      "cell_type": "markdown",
      "source": [
        "## Feature 2: Bigram Creation and Frequency Analysis"
      ],
      "metadata": {
        "id": "RRU7rzpDpfW5"
      }
    },
    {
      "cell_type": "code",
      "source": [
        "#feature function 2: bigram frequency analysis\n",
        "\n",
        "def bigrams(hamList, spamList):\n",
        "  hamFinder = nltk.collocations.BigramCollocationFinder.from_words(hamList)\n",
        "  commonBigrams = hamFinder.ngram_fd.most_common(30)\n",
        "  print(\"\\nHam Most Common Bigrams\")\n",
        "  for bigram in commonBigrams:\n",
        "    print(bigram[0],'\\t', bigram[1])\n",
        "\n",
        "  spamFinder = nltk.collocations.BigramCollocationFinder.from_words(spamList)\n",
        "  commonBigrams = spamFinder.ngram_fd.most_common(30)\n",
        "  print(\"\\nSpam Most Common Bigrams\")\n",
        "  for bigram in commonBigrams:\n",
        "    print(bigram[0],'\\t',bigram[1])\n",
        "\n",
        "#BAG OF WORDS\n",
        "#function: split data into testing and training data\n",
        "#function: join tokenized email lists back into single string\n",
        "\n",
        "#NAIVE BAYES CLASSIFICATION\n",
        "#use cross-validation to obtain precision, recall, and F-measure scores\n",
        "#you can choose to produce the features as a CSV file and use sklearn to train/test a classifier, using cross validation scores\n",
        "\n",
        "#function: classify using Gaussian Naive Bayes"
      ],
      "metadata": {
        "id": "sVYgDYj4AWv2"
      },
      "execution_count": null,
      "outputs": []
    },
    {
      "cell_type": "markdown",
      "source": [
        "## Feature 3: Trigram Creation and Frequency Analysis"
      ],
      "metadata": {
        "id": "Y8kslYjupwLc"
      }
    },
    {
      "cell_type": "code",
      "source": [
        "def trigrams(hamList, spamList):\n",
        "  hamFinder = nltk.collocations.TrigramCollocationFinder.from_words(hamList)\n",
        "  commonTrigrams = hamFinder.ngram_fd.most_common(30)\n",
        "  print(\"\\nHam Most Common Trigrams\")\n",
        "  for trigram in commonTrigrams:\n",
        "    print(trigram[0],'\\t', trigram[1])\n",
        "\n",
        "  spamFinder = nltk.collocations.TrigramCollocationFinder.from_words(spamList)\n",
        "  commonTrigrams = spamFinder.ngram_fd.most_common(30)\n",
        "  print(\"\\nSpam Most Common Trigrams\")\n",
        "  for trigram in commonTrigrams:\n",
        "    print(trigram[0],'\\t',trigram[1])"
      ],
      "metadata": {
        "id": "cqK347EGp3iH"
      },
      "execution_count": null,
      "outputs": []
    },
    {
      "cell_type": "markdown",
      "source": [
        "## Feature 4: Sentiment Analysis"
      ],
      "metadata": {
        "id": "j_PnBxpCrGhX"
      }
    },
    {
      "cell_type": "code",
      "source": [
        "def sentimentAnalysis(spamtexts, hamtexts):\n",
        "  #guidance from the following site: https://realpython.com/python-nltk-sentiment-analysis/\n",
        "\n",
        "  # initialize sentiment analyzer included in nltk\n",
        "  sia = SentimentIntensityAnalyzer()\n",
        "  # initialize lists\n",
        "  spamSentimentList = []\n",
        "  hamSentimentList = []\n",
        "  # using only the compound score from the sia, sort the emails into positive and negative lists\n",
        "  # start with spam\n",
        "  for email in spamtexts:\n",
        "    compoundScore = sia.polarity_scores(email)[\"compound\"]\n",
        "    if compoundScore > 0:\n",
        "      spamSentimentList.append((email, compoundScore, 'positive'))\n",
        "    else:\n",
        "      spamSentimentList.append((email, compoundScore, 'negative'))\n",
        "  # now do ham\n",
        "  for email in hamtexts:\n",
        "    compoundScore = sia.polarity_scores(email)[\"compound\"]\n",
        "    if compoundScore > 0:\n",
        "      hamSentimentList.append((email, compoundScore, 'positive'))\n",
        "    else:\n",
        "      hamSentimentList.append((email, compoundScore, 'negative'))\n",
        "  # output: spamSentimentList, hamSentimentList\n",
        "  #    each list will contain a triple tuple with tokenized email, sentiment score, \"positive\"/\"negative\"\n",
        "\n",
        "  return (spamSentimentList, hamSentimentList)\n"
      ],
      "metadata": {
        "id": "VfryAhXArQ5N"
      },
      "execution_count": null,
      "outputs": []
    },
    {
      "cell_type": "markdown",
      "source": [
        "## Feature 5: Bag of Words\n"
      ],
      "metadata": {
        "id": "SLHscnmsvcIV"
      }
    },
    {
      "cell_type": "code",
      "source": [
        "def trainTestSplit(emaildocsStop):\n",
        "    prepList = []\n",
        "    trainList = []\n",
        "    testList = []\n",
        "    listA = []\n",
        "    # change ham = 0, spam = 1\n",
        "    for email in emaildocsStop:\n",
        "        if email[1] == \"ham\":\n",
        "            listA = [email[0],0]\n",
        "            prepList.append(listA)\n",
        "        else:\n",
        "            listA = [email[0],1]\n",
        "            prepList.append(listA)\n",
        "        listA = []\n",
        "        \n",
        "    # use numpy to get a random selection of 75% of data for training\n",
        "    for item in prepList:\n",
        "        if numpy.random.uniform(0,1) < 0.75:\n",
        "            trainList.append(item)\n",
        "        else:\n",
        "            testList.append(item)\n",
        "    print(len(testList))\n",
        "    print(len(trainList))\n",
        "\n",
        "    return testList, trainList\n",
        "\n",
        "def join(testList, trainList):\n",
        "    # joining our tokenized list values for Bag of Words\n",
        "    joinedTestList = []\n",
        "    joinedTrainList = []\n",
        "    listA = []\n",
        "    for email in testList:\n",
        "        joinedString = ' '.join(email[0])\n",
        "        listA = [joinedString,email[1]]\n",
        "        joinedTestList.append(listA)\n",
        "        listA = []\n",
        "\n",
        "    for email in trainList:\n",
        "        joinedString = ' '.join(email[0])\n",
        "        listA = [joinedString,email[1]]\n",
        "        joinedTrainList.append(listA)\n",
        "        listA = []\n",
        "\n",
        "    return joinedTestList, joinedTrainList\n",
        "    \n",
        "def classyClassy(joinedTestList,joinedTrainList):\n",
        "    #using guidance from: https://www.shiksha.com/online-courses/articles/spam-filtering-using-bag-of-words/#sklearn\n",
        "    \n",
        "    justTextTrain = []\n",
        "    for item in joinedTrainList:\n",
        "        justTextTrain.append(item[0])\n",
        "    justTextTest = []\n",
        "    for item in joinedTrainList:\n",
        "        justTextTest.append(item[0])\n",
        "        \n",
        "    justLabelTrain = []\n",
        "    for item in joinedTrainList:\n",
        "        justLabelTrain.append(item[1])\n",
        "    justLabelTest = []\n",
        "    for item in joinedTrainList:\n",
        "        justLabelTest.append(item[1])\n",
        "        \n",
        "    vectorizer = CountVectorizer(max_features=100)\n",
        "    vectorizer.fit(justTextTrain)\n",
        "\n",
        "    print(\"Vocab:\",vectorizer.vocabulary_)\n",
        "    Xtrain = vectorizer.fit_transform(justTextTrain)\n",
        "    classifier = GaussianNB()\n",
        "\n",
        "    classifier.fit(Xtrain.toarray(), justLabelTrain)\n",
        "    Xtest = vectorizer.transform(justTextTest)\n",
        "\n",
        "    yPred = classifier.predict(Xtest.toarray())\n",
        "    accuracy = accuracy_score(justLabelTest, yPred)\n",
        "    print(\"Accuracy is: \",accuracy*100)\n"
      ],
      "metadata": {
        "id": "_2BsdiJivZ6N"
      },
      "execution_count": null,
      "outputs": []
    },
    {
      "cell_type": "markdown",
      "source": [
        "## Main function that runs Features 1-5\n"
      ],
      "metadata": {
        "id": "eU6i9gQBwrAT"
      }
    },
    {
      "cell_type": "code",
      "source": [
        "def main():\n",
        "  emaildocs, spamtexts, hamtexts = processSpamHam(sys.argv[1], sys.argv[2])\n",
        "  hamTokens, spamTokens, emaildocsTokenized, hamAlpha, spamAlpha, emaildocsAlpha, hamStop, spamStop, emaildocsStop = cleanUpCleanUp(emaildocs)\n",
        "\n",
        "  #print(\"Frequency Analysis using lists with symbols/numbers:\")\n",
        "  #frequencyAnalysis(hamTokens,spamTokens)\n",
        "\n",
        "  #print(\"Frequency Analysis with symbols/numbers filtered:\")\n",
        "  #frequencyAnalysis(hamAlpha,spamAlpha)\n",
        "\n",
        "  #print(\"Frequency Analysis with symbols/numbers filtered and stopwords applied:\")\n",
        "  #frequencyAnalysis(hamStop,spamStop)\n",
        "\n",
        "  # bigrams(hamStop,spamStop)\n",
        "  # trigrams(hamStop,spamStop)\n",
        "  spamSentimentList, hamSentimentList = sentimentAnalysis(spamtexts, hamtexts)\n",
        "  testList, trainList = trainTestSplit(emaildocsStop)\n",
        "  joinedTestList, joinedTrainList = join(testList,trainList)\n",
        "  classyClassy(joinedTestList, joinedTrainList)\n",
        "\n",
        "\n",
        "\"\"\"\n",
        "commandline interface takes a directory name with ham and spam subdirectories\n",
        "   and a limit to the number of emails read each of ham and spam\n",
        "It then processes the files and trains a spam detection classifier.\n",
        "\n",
        "\"\"\"\n",
        "if __name__ == '__main__':\n",
        "    if (len(sys.argv) != 3):\n",
        "        print ('usage: python classifySPAM_Annick.py <corpus-dir> <limit>')\n",
        "        print('Note: if folder names contain spaces, directory path must be in quotes')\n",
        "        sys.exit(0)\n",
        "    main()\n"
      ],
      "metadata": {
        "id": "aWLEFmaUwnX6"
      },
      "execution_count": null,
      "outputs": []
    },
    {
      "cell_type": "markdown",
      "source": [
        "# STEP 3: EXPERIMENTS"
      ],
      "metadata": {
        "id": "e-R9V7cAAiv_"
      }
    },
    {
      "cell_type": "code",
      "source": [
        "#experiment 1: use two different sets of features\n",
        "#stopwords/alpha chars - compare experiment results\n",
        "\n",
        "#experiment 2: use two different sets of features\n",
        "#unigrams, bigrams, trigrams - compare experiment results\n",
        "\n",
        "#experiment 3: use two different sets of features\n",
        "#sentiment analysis - compare experiment results\n",
        "\n",
        "#experiment 4: use two different sets of features\n",
        "#vocabulary size - compare experiment results\n",
        "\n",
        "#experiment 5: use at least two combined feature functions\n",
        "#bigrams + sentiment analysis?\n",
        "\n",
        "#experiment 6: use a new feature function that we have not covered in class\n",
        "# WE DON'T HAVE THIS DONE\n",
        "\n",
        "#experiment 7: use an advanced function\n",
        "# Bryan - Using TensorFlow to Detect Spam Emails"
      ],
      "metadata": {
        "id": "80W5CQlLAmmO"
      },
      "execution_count": null,
      "outputs": []
    },
    {
      "cell_type": "markdown",
      "source": [
        "# Other Experiments"
      ],
      "metadata": {
        "id": "apJRslEcqk5N"
      }
    },
    {
      "cell_type": "markdown",
      "source": [
        "## Multinomial Naive Bayes"
      ],
      "metadata": {
        "id": "3xrOgniHwY8Y"
      }
    },
    {
      "cell_type": "code",
      "source": [
        "#this creates a function to stem the words\n",
        "STEMMER=PorterStemmer()\n",
        "print(STEMMER.stem(\"fishings\"))"
      ],
      "metadata": {
        "id": "tVYZcHqS9gHE",
        "colab": {
          "base_uri": "https://localhost:8080/"
        },
        "outputId": "53e3b2ea-8915-45ed-d1d9-b332fb9e64cc"
      },
      "execution_count": null,
      "outputs": [
        {
          "output_type": "stream",
          "name": "stdout",
          "text": [
            "fish\n"
          ]
        }
      ]
    },
    {
      "cell_type": "code",
      "source": [
        "def MY_STEMMER(str_input):\n",
        "    words = re.sub(r\"[^A-Za-z\\-]\", \" \", str_input).lower().split()\n",
        "    words = [STEMMER.stem(w) for w in words]\n",
        "    return words"
      ],
      "metadata": {
        "id": "XiOShq0lwcK1"
      },
      "execution_count": null,
      "outputs": []
    },
    {
      "cell_type": "code",
      "source": [
        "#this is setting up the count vectorizer we will use later, removing stop words, and making things lowercase for consistency\n",
        "MyVect_STEM=CountVectorizer(input='filename',\n",
        "                        analyzer = 'word',\n",
        "                        stop_words='english',\n",
        "                        tokenizer=MY_STEMMER,\n",
        "                        lowercase = True\n",
        "                        )"
      ],
      "metadata": {
        "id": "Yh1qws3Swh81"
      },
      "execution_count": null,
      "outputs": []
    },
    {
      "cell_type": "code",
      "source": [
        "#this function removes numbers that will be used later\n",
        "def RemoveNums(SomeDF):\n",
        "    print(\"Running Remove Numbers function....\\n\")\n",
        "    temp=SomeDF\n",
        "    MyList=[]\n",
        "    for col in temp.columns:\n",
        "        Logical2=str.isalpha(col)\n",
        "        if(Logical2==False):\n",
        "            MyList.append(str(col))          \n",
        "    temp.drop(MyList, axis=1, inplace=True)\n",
        "       \n",
        "    return temp"
      ],
      "metadata": {
        "id": "w7gACeP3wjho"
      },
      "execution_count": null,
      "outputs": []
    },
    {
      "cell_type": "code",
      "source": [
        "#setting up an empty data frame to put the vectorized words into\n",
        "FinalDF_STEM=pd.DataFrame()"
      ],
      "metadata": {
        "id": "Ifhor3kUwj7R"
      },
      "execution_count": null,
      "outputs": []
    },
    {
      "cell_type": "code",
      "source": [
        "#below is where you read in the files\n",
        "#you need to put the two folders ham and spam in another folder (I titled mine corpus)\n",
        "#I put spam and ham in corpus so the path is C:/Users/bradr/Desktop/g/corpus/ so just replace path below with #your own and everything else should work the same\n",
        "for name in [\"spam\",\"ham\"]:\n",
        "\n",
        "    builder=name+\"DF\"    \n",
        "    builderB=name+\"DFB\"\n",
        "   \n",
        "    path=\"C:/Users/bradr/Desktop/g/corpus/\"+name\n",
        "   \n",
        "    FileList=[]\n",
        "    for item in os.listdir(path):\n",
        "        next1=path+ \"/\" + item\n",
        "        #appends each file (txt file) into a list\n",
        "        FileList.append(next1)\n",
        "        #this is where the vectorization happens\n",
        "        X1=MyVect_STEM.fit_transform(FileList)\n",
        "        #getting all of the vectorized word names\n",
        "        ColumnNames1=MyVect_STEM.get_feature_names_out()\n",
        "        NumFeatures1=len(ColumnNames1)\n",
        "        #building a column of labels i.e. spam or ham\n",
        "        builderS=pd.DataFrame(X1.toarray(),columns=ColumnNames1)\n",
        "        builderS[\"Label\"]=name\n",
        "        #adding the labels column to the rest of the vectorized data frame\n",
        "        FinalDF_STEM=pd.concat([FinalDF_STEM, builderS], ignore_index=True)\n"
      ],
      "metadata": {
        "id": "hab1yBCWwkXG",
        "colab": {
          "base_uri": "https://localhost:8080/",
          "height": 235
        },
        "outputId": "f9e76736-87b2-4452-8b5c-60085b7a0206"
      },
      "execution_count": null,
      "outputs": [
        {
          "output_type": "error",
          "ename": "FileNotFoundError",
          "evalue": "ignored",
          "traceback": [
            "\u001b[0;31m---------------------------------------------------------------------------\u001b[0m",
            "\u001b[0;31mFileNotFoundError\u001b[0m                         Traceback (most recent call last)",
            "\u001b[0;32m<ipython-input-27-a72dfcb6b065>\u001b[0m in \u001b[0;36m<cell line: 4>\u001b[0;34m()\u001b[0m\n\u001b[1;32m     10\u001b[0m \u001b[0;34m\u001b[0m\u001b[0m\n\u001b[1;32m     11\u001b[0m     \u001b[0mFileList\u001b[0m\u001b[0;34m=\u001b[0m\u001b[0;34m[\u001b[0m\u001b[0;34m]\u001b[0m\u001b[0;34m\u001b[0m\u001b[0;34m\u001b[0m\u001b[0m\n\u001b[0;32m---> 12\u001b[0;31m     \u001b[0;32mfor\u001b[0m \u001b[0mitem\u001b[0m \u001b[0;32min\u001b[0m \u001b[0mos\u001b[0m\u001b[0;34m.\u001b[0m\u001b[0mlistdir\u001b[0m\u001b[0;34m(\u001b[0m\u001b[0mpath\u001b[0m\u001b[0;34m)\u001b[0m\u001b[0;34m:\u001b[0m\u001b[0;34m\u001b[0m\u001b[0;34m\u001b[0m\u001b[0m\n\u001b[0m\u001b[1;32m     13\u001b[0m         \u001b[0mnext1\u001b[0m\u001b[0;34m=\u001b[0m\u001b[0mpath\u001b[0m\u001b[0;34m+\u001b[0m \u001b[0;34m\"/\"\u001b[0m \u001b[0;34m+\u001b[0m \u001b[0mitem\u001b[0m\u001b[0;34m\u001b[0m\u001b[0;34m\u001b[0m\u001b[0m\n\u001b[1;32m     14\u001b[0m         \u001b[0;31m#appends each file (txt file) into a list\u001b[0m\u001b[0;34m\u001b[0m\u001b[0;34m\u001b[0m\u001b[0m\n",
            "\u001b[0;31mFileNotFoundError\u001b[0m: [Errno 2] No such file or directory: '/C:/Users/bryan/OneDrive/Desktop/corpus/spam'"
          ]
        }
      ]
    },
    {
      "cell_type": "code",
      "source": [
        "print(FinalDF_STEM.head())\n",
        "print(FinalDF_STEM['Label'])"
      ],
      "metadata": {
        "id": "DhOATLyFwkoJ"
      },
      "execution_count": null,
      "outputs": []
    },
    {
      "cell_type": "code",
      "source": [
        "#this replaces all columns that have NaN with 0\n",
        "FinalDF_STEM=FinalDF_STEM.fillna(0)\n",
        "#this is the use of the remove numbers function\n",
        "FinalDF_STEM=RemoveNums(FinalDF_STEM)\n",
        "\n",
        "\n",
        "#splitting the data into training and test data\n",
        "TrainDF3, TestDF3 = train_test_split(FinalDF_STEM, test_size=0.3)\n",
        "Test3Labels=TestDF3[\"Label\"]"
      ],
      "metadata": {
        "id": "cmZBmJ54wk44"
      },
      "execution_count": null,
      "outputs": []
    },
    {
      "cell_type": "code",
      "source": [
        "#removing the label column because you are using the labels column for the algorithm\n",
        "TestDF3 = TestDF3.drop([\"Label\"], axis=1)\n",
        "Train3Labels=TrainDF3[\"Label\"]\n",
        "TrainDF3 = TrainDF3.drop([\"Label\"], axis=1)"
      ],
      "metadata": {
        "id": "3KWMmyxmwmTv"
      },
      "execution_count": null,
      "outputs": []
    },
    {
      "cell_type": "code",
      "source": [
        "MyModelNB1= MultinomialNB()"
      ],
      "metadata": {
        "id": "zYvnBR1iwmch"
      },
      "execution_count": null,
      "outputs": []
    },
    {
      "cell_type": "code",
      "source": [
        "#running MNB on the data and labels, using the labels and training data\n",
        "MyModelNB1.fit(TrainDF3, Train3Labels)"
      ],
      "metadata": {
        "id": "pv75oxgEwnB1"
      },
      "execution_count": null,
      "outputs": []
    },
    {
      "cell_type": "code",
      "source": [
        "#making a prediction from MNB\n",
        "Prediction1 = MyModelNB1.predict(TestDF3)"
      ],
      "metadata": {
        "id": "vorDHnY_wn_K"
      },
      "execution_count": null,
      "outputs": []
    },
    {
      "cell_type": "code",
      "source": [
        "print(\"\\nThe prediction from NB is:\")\n",
        "print(Prediction1)\n",
        "print(\"\\nThe actual labels are:\")\n",
        "print(Test3Labels)"
      ],
      "metadata": {
        "id": "mjS6uaLyw5am"
      },
      "execution_count": null,
      "outputs": []
    },
    {
      "cell_type": "code",
      "source": [
        "#confusion matrix\n",
        "cnf_matrix3 = confusion_matrix(Test3Labels, Prediction1)"
      ],
      "metadata": {
        "id": "Pswth4eJw6Jp"
      },
      "execution_count": null,
      "outputs": []
    },
    {
      "cell_type": "code",
      "source": [
        "print(\"\\nThe confusion matrix is:\")\n",
        "print(cnf_matrix3)\n",
        "\n",
        "### prediction probabilities\n",
        "## columns are the labels in alphabetical order\n",
        "## The decinal in the matrix are the prob of being\n",
        "## that label (ham or spam)\n",
        "print(np.round(MyModelNB1.predict_proba(TestDF3),2))"
      ],
      "metadata": {
        "id": "UzYHM4fZw6VR"
      },
      "execution_count": null,
      "outputs": []
    },
    {
      "cell_type": "markdown",
      "source": [
        "## LIWC (Linguistic Inquiry and Word Count)"
      ],
      "metadata": {
        "id": "xVRaKqIy7omv"
      }
    },
    {
      "cell_type": "code",
      "source": [],
      "metadata": {
        "id": "50lM_jGkw6e6"
      },
      "execution_count": null,
      "outputs": []
    },
    {
      "cell_type": "markdown",
      "source": [
        "## Basic SKLearn Model"
      ],
      "metadata": {
        "id": "nfYTodYb7Omr"
      }
    },
    {
      "cell_type": "markdown",
      "source": [
        "### Text Cleaning & Processing"
      ],
      "metadata": {
        "id": "zhIafmmlp6YT"
      }
    },
    {
      "cell_type": "code",
      "source": [
        "# data = 'C:/Users/bryan/myfiles_nonDropbox/Python/data/IST664_NLP/corpus'\n",
        "data = pd.read_csv('spam.csv')\n",
        "data"
      ],
      "metadata": {
        "id": "0csv1zBf8rzw"
      },
      "execution_count": null,
      "outputs": []
    },
    {
      "cell_type": "code",
      "source": [
        "# def processSpamHam(dirPath,limitStr):\n",
        "#   # convert the limit argument from a string to an int\n",
        "#   limit = int(limitStr)\n",
        "#   # initialize lists for spam and ham email texts\n",
        "#   hamtexts = []\n",
        "#   spamtexts = []\n",
        "#   os.chdir(dirPath)\n",
        "#   # process all files in directory that end in .txt up to the provided limit\n",
        "#   #    assuming that the emails are sufficiently randomized\n",
        "#   # output: spamtexts, hamtexts\n",
        "#   #    list in which each list item is an entire email stored in one string\n",
        "#   for file in os.listdir(\"./spam\"):\n",
        "#     if (file.endswith(\".txt\")) and (len(spamtexts) < limit):\n",
        "#       # open file for reading and read entire file into a string\n",
        "#       f = open(\"./spam/\"+file, 'r', encoding=\"latin-1\")\n",
        "#       spamtexts.append (f.read())\n",
        "#       f.close()\n",
        "#   for file in os.listdir(\"./ham\"):\n",
        "#     if (file.endswith(\".txt\")) and (len(hamtexts) < limit):\n",
        "#       # open file for reading and read entire file into a string\n",
        "#       f = open(\"./ham/\"+file, 'r', encoding=\"latin-1\")\n",
        "#       hamtexts.append (f.read())\n",
        "#       f.close()\n",
        "\n",
        "#   # print number emails read\n",
        "#   print (\"Number of spam files:\",len(spamtexts))\n",
        "#   print (\"Number of ham files:\",len(hamtexts))\n",
        "\n",
        "#   # output: emaildocs\n",
        "#   #     single list of mixed spam and ham email documents as\n",
        "#   #     list items are: (list of tokenized words, label)\n",
        "#   emaildocs = []\n",
        "#   # add the spam\n",
        "#   for spam in spamtexts:\n",
        "#     tokens = nltk.word_tokenize(spam)\n",
        "#     emaildocs.append((tokens, 'spam'))\n",
        "#   # add the ham\n",
        "#   for ham in hamtexts:\n",
        "#     tokens = nltk.word_tokenize(ham)\n",
        "#     emaildocs.append((tokens, 'ham'))\n",
        "  \n",
        "#   # randomize the list\n",
        "#   random.shuffle(emaildocs)\n",
        "  \n",
        "#   # print a few token lists\n",
        "#   \"\"\"\n",
        "#   for email in emaildocs[:4]:\n",
        "#     print (email)\n",
        "#     print\n",
        "#   \"\"\"\n",
        "\n",
        "#   return(emaildocs, spamtexts, hamtexts)"
      ],
      "metadata": {
        "id": "7xipj0mq9SNw"
      },
      "execution_count": null,
      "outputs": []
    },
    {
      "cell_type": "code",
      "source": [
        "# processSpamHam(data, 1000)"
      ],
      "metadata": {
        "id": "RjvW0bEP6nKh"
      },
      "execution_count": null,
      "outputs": []
    },
    {
      "cell_type": "code",
      "source": [
        "# Creating a variable for the emails that are labeled as \"Spam\" as \"1\", and those that are not-spam/\"ham\" as \"0\"\n",
        "data['Spam'] = data['Category'].apply(lambda x:1 if x=='spam' else 0)\n",
        "data.head(5)"
      ],
      "metadata": {
        "colab": {
          "base_uri": "https://localhost:8080/",
          "height": 206
        },
        "id": "VeYvqd239Saa",
        "outputId": "dbf03bd1-7ae5-46cf-b9d8-0a66e26c86e7"
      },
      "execution_count": null,
      "outputs": [
        {
          "output_type": "execute_result",
          "data": {
            "text/plain": [
              "  Category                                            Message  Spam\n",
              "0      ham  Go until jurong point, crazy.. Available only ...     0\n",
              "1      ham                      Ok lar... Joking wif u oni...     0\n",
              "2     spam  Free entry in 2 a wkly comp to win FA Cup fina...     1\n",
              "3      ham  U dun say so early hor... U c already then say...     0\n",
              "4      ham  Nah I don't think he goes to usf, he lives aro...     0"
            ],
            "text/html": [
              "\n",
              "  <div id=\"df-432d331a-d937-4aab-a5ea-c5f7e9a3bfab\">\n",
              "    <div class=\"colab-df-container\">\n",
              "      <div>\n",
              "<style scoped>\n",
              "    .dataframe tbody tr th:only-of-type {\n",
              "        vertical-align: middle;\n",
              "    }\n",
              "\n",
              "    .dataframe tbody tr th {\n",
              "        vertical-align: top;\n",
              "    }\n",
              "\n",
              "    .dataframe thead th {\n",
              "        text-align: right;\n",
              "    }\n",
              "</style>\n",
              "<table border=\"1\" class=\"dataframe\">\n",
              "  <thead>\n",
              "    <tr style=\"text-align: right;\">\n",
              "      <th></th>\n",
              "      <th>Category</th>\n",
              "      <th>Message</th>\n",
              "      <th>Spam</th>\n",
              "    </tr>\n",
              "  </thead>\n",
              "  <tbody>\n",
              "    <tr>\n",
              "      <th>0</th>\n",
              "      <td>ham</td>\n",
              "      <td>Go until jurong point, crazy.. Available only ...</td>\n",
              "      <td>0</td>\n",
              "    </tr>\n",
              "    <tr>\n",
              "      <th>1</th>\n",
              "      <td>ham</td>\n",
              "      <td>Ok lar... Joking wif u oni...</td>\n",
              "      <td>0</td>\n",
              "    </tr>\n",
              "    <tr>\n",
              "      <th>2</th>\n",
              "      <td>spam</td>\n",
              "      <td>Free entry in 2 a wkly comp to win FA Cup fina...</td>\n",
              "      <td>1</td>\n",
              "    </tr>\n",
              "    <tr>\n",
              "      <th>3</th>\n",
              "      <td>ham</td>\n",
              "      <td>U dun say so early hor... U c already then say...</td>\n",
              "      <td>0</td>\n",
              "    </tr>\n",
              "    <tr>\n",
              "      <th>4</th>\n",
              "      <td>ham</td>\n",
              "      <td>Nah I don't think he goes to usf, he lives aro...</td>\n",
              "      <td>0</td>\n",
              "    </tr>\n",
              "  </tbody>\n",
              "</table>\n",
              "</div>\n",
              "      <button class=\"colab-df-convert\" onclick=\"convertToInteractive('df-432d331a-d937-4aab-a5ea-c5f7e9a3bfab')\"\n",
              "              title=\"Convert this dataframe to an interactive table.\"\n",
              "              style=\"display:none;\">\n",
              "        \n",
              "  <svg xmlns=\"http://www.w3.org/2000/svg\" height=\"24px\"viewBox=\"0 0 24 24\"\n",
              "       width=\"24px\">\n",
              "    <path d=\"M0 0h24v24H0V0z\" fill=\"none\"/>\n",
              "    <path d=\"M18.56 5.44l.94 2.06.94-2.06 2.06-.94-2.06-.94-.94-2.06-.94 2.06-2.06.94zm-11 1L8.5 8.5l.94-2.06 2.06-.94-2.06-.94L8.5 2.5l-.94 2.06-2.06.94zm10 10l.94 2.06.94-2.06 2.06-.94-2.06-.94-.94-2.06-.94 2.06-2.06.94z\"/><path d=\"M17.41 7.96l-1.37-1.37c-.4-.4-.92-.59-1.43-.59-.52 0-1.04.2-1.43.59L10.3 9.45l-7.72 7.72c-.78.78-.78 2.05 0 2.83L4 21.41c.39.39.9.59 1.41.59.51 0 1.02-.2 1.41-.59l7.78-7.78 2.81-2.81c.8-.78.8-2.07 0-2.86zM5.41 20L4 18.59l7.72-7.72 1.47 1.35L5.41 20z\"/>\n",
              "  </svg>\n",
              "      </button>\n",
              "      \n",
              "  <style>\n",
              "    .colab-df-container {\n",
              "      display:flex;\n",
              "      flex-wrap:wrap;\n",
              "      gap: 12px;\n",
              "    }\n",
              "\n",
              "    .colab-df-convert {\n",
              "      background-color: #E8F0FE;\n",
              "      border: none;\n",
              "      border-radius: 50%;\n",
              "      cursor: pointer;\n",
              "      display: none;\n",
              "      fill: #1967D2;\n",
              "      height: 32px;\n",
              "      padding: 0 0 0 0;\n",
              "      width: 32px;\n",
              "    }\n",
              "\n",
              "    .colab-df-convert:hover {\n",
              "      background-color: #E2EBFA;\n",
              "      box-shadow: 0px 1px 2px rgba(60, 64, 67, 0.3), 0px 1px 3px 1px rgba(60, 64, 67, 0.15);\n",
              "      fill: #174EA6;\n",
              "    }\n",
              "\n",
              "    [theme=dark] .colab-df-convert {\n",
              "      background-color: #3B4455;\n",
              "      fill: #D2E3FC;\n",
              "    }\n",
              "\n",
              "    [theme=dark] .colab-df-convert:hover {\n",
              "      background-color: #434B5C;\n",
              "      box-shadow: 0px 1px 3px 1px rgba(0, 0, 0, 0.15);\n",
              "      filter: drop-shadow(0px 1px 2px rgba(0, 0, 0, 0.3));\n",
              "      fill: #FFFFFF;\n",
              "    }\n",
              "  </style>\n",
              "\n",
              "      <script>\n",
              "        const buttonEl =\n",
              "          document.querySelector('#df-432d331a-d937-4aab-a5ea-c5f7e9a3bfab button.colab-df-convert');\n",
              "        buttonEl.style.display =\n",
              "          google.colab.kernel.accessAllowed ? 'block' : 'none';\n",
              "\n",
              "        async function convertToInteractive(key) {\n",
              "          const element = document.querySelector('#df-432d331a-d937-4aab-a5ea-c5f7e9a3bfab');\n",
              "          const dataTable =\n",
              "            await google.colab.kernel.invokeFunction('convertToInteractive',\n",
              "                                                     [key], {});\n",
              "          if (!dataTable) return;\n",
              "\n",
              "          const docLinkHtml = 'Like what you see? Visit the ' +\n",
              "            '<a target=\"_blank\" href=https://colab.research.google.com/notebooks/data_table.ipynb>data table notebook</a>'\n",
              "            + ' to learn more about interactive tables.';\n",
              "          element.innerHTML = '';\n",
              "          dataTable['output_type'] = 'display_data';\n",
              "          await google.colab.output.renderOutput(dataTable, element);\n",
              "          const docLink = document.createElement('div');\n",
              "          docLink.innerHTML = docLinkHtml;\n",
              "          element.appendChild(docLink);\n",
              "        }\n",
              "      </script>\n",
              "    </div>\n",
              "  </div>\n",
              "  "
            ]
          },
          "metadata": {},
          "execution_count": 6
        }
      ]
    },
    {
      "cell_type": "code",
      "source": [
        "# Splitting the testing and training data\n",
        "X_train,X_test,y_train,y_test=train_test_split(data.Message,data.Spam,test_size=0.2)"
      ],
      "metadata": {
        "id": "DP0UH09V9ShU"
      },
      "execution_count": null,
      "outputs": []
    },
    {
      "cell_type": "markdown",
      "source": [
        "### Feature Engineering"
      ],
      "metadata": {
        "id": "bbvE3QpkqW7O"
      }
    },
    {
      "cell_type": "code",
      "source": [
        "#CounterVectorizer Convert the text into matrics\n",
        "model1=Pipeline([\n",
        "    ('vectorizer',CountVectorizer()),\n",
        "    ('nb',MultinomialNB())])"
      ],
      "metadata": {
        "id": "zVm9rklO9Sld"
      },
      "execution_count": null,
      "outputs": []
    },
    {
      "cell_type": "markdown",
      "source": [
        "### Training the Model"
      ],
      "metadata": {
        "id": "xG0vWTysqe2C"
      }
    },
    {
      "cell_type": "code",
      "source": [
        "model1.fit(X_train,y_train)"
      ],
      "metadata": {
        "id": "daZDlxEs9SpK"
      },
      "execution_count": null,
      "outputs": []
    },
    {
      "cell_type": "code",
      "source": [
        "emails=[\n",
        "    'Sounds great! Are you home now?',\n",
        "    'You have apps approved and ready to use with Zoom',\n",
        "    'Career Services - Employment Opportunity with 2U',\n",
        "    'Will u meet ur dream partner soon? Is ur career off 2 a flyng start? 2 find out free, txt HORO followed by ur star sign, e. g. HORO ARIES']"
      ],
      "metadata": {
        "id": "al5lF9ds9Ss_"
      },
      "execution_count": null,
      "outputs": []
    },
    {
      "cell_type": "code",
      "source": [
        "# Predicting if the new emails are real or SPAM\n",
        "model1.predict(emails)"
      ],
      "metadata": {
        "id": "ES-Y5aSo9f55"
      },
      "execution_count": null,
      "outputs": []
    },
    {
      "cell_type": "code",
      "source": [
        "print(model1.predict(emails)[0], emails[0], \"\\n\")\n",
        "print(model1.predict(emails)[1], emails[1], \"\\n\")"
      ],
      "metadata": {
        "id": "2ko0mp1E9f_O"
      },
      "execution_count": null,
      "outputs": []
    },
    {
      "cell_type": "code",
      "source": [
        "model1.score(X_test,y_test)"
      ],
      "metadata": {
        "id": "b17bmgVj9gDm"
      },
      "execution_count": null,
      "outputs": []
    },
    {
      "cell_type": "markdown",
      "source": [
        "## Using TensorFlow to Detect Spam Emails"
      ],
      "metadata": {
        "id": "mJq-RKM5FC3T"
      }
    },
    {
      "cell_type": "code",
      "source": [
        "data = pd.read_csv('spam.csv')\n",
        "data"
      ],
      "metadata": {
        "id": "LbQ1NKsHw6nO",
        "colab": {
          "base_uri": "https://localhost:8080/",
          "height": 424
        },
        "outputId": "94b8a651-36ef-417b-a7d0-64afad211a74"
      },
      "execution_count": null,
      "outputs": [
        {
          "output_type": "execute_result",
          "data": {
            "text/plain": [
              "     Category                                            Message\n",
              "0         ham  Go until jurong point, crazy.. Available only ...\n",
              "1         ham                      Ok lar... Joking wif u oni...\n",
              "2        spam  Free entry in 2 a wkly comp to win FA Cup fina...\n",
              "3         ham  U dun say so early hor... U c already then say...\n",
              "4         ham  Nah I don't think he goes to usf, he lives aro...\n",
              "...       ...                                                ...\n",
              "5567     spam  This is the 2nd time we have tried 2 contact u...\n",
              "5568      ham               Will ü b going to esplanade fr home?\n",
              "5569      ham  Pity, * was in mood for that. So...any other s...\n",
              "5570      ham  The guy did some bitching but I acted like i'd...\n",
              "5571      ham                         Rofl. Its true to its name\n",
              "\n",
              "[5572 rows x 2 columns]"
            ],
            "text/html": [
              "\n",
              "  <div id=\"df-383f8b9d-153a-470e-aafc-42488a72d97b\">\n",
              "    <div class=\"colab-df-container\">\n",
              "      <div>\n",
              "<style scoped>\n",
              "    .dataframe tbody tr th:only-of-type {\n",
              "        vertical-align: middle;\n",
              "    }\n",
              "\n",
              "    .dataframe tbody tr th {\n",
              "        vertical-align: top;\n",
              "    }\n",
              "\n",
              "    .dataframe thead th {\n",
              "        text-align: right;\n",
              "    }\n",
              "</style>\n",
              "<table border=\"1\" class=\"dataframe\">\n",
              "  <thead>\n",
              "    <tr style=\"text-align: right;\">\n",
              "      <th></th>\n",
              "      <th>Category</th>\n",
              "      <th>Message</th>\n",
              "    </tr>\n",
              "  </thead>\n",
              "  <tbody>\n",
              "    <tr>\n",
              "      <th>0</th>\n",
              "      <td>ham</td>\n",
              "      <td>Go until jurong point, crazy.. Available only ...</td>\n",
              "    </tr>\n",
              "    <tr>\n",
              "      <th>1</th>\n",
              "      <td>ham</td>\n",
              "      <td>Ok lar... Joking wif u oni...</td>\n",
              "    </tr>\n",
              "    <tr>\n",
              "      <th>2</th>\n",
              "      <td>spam</td>\n",
              "      <td>Free entry in 2 a wkly comp to win FA Cup fina...</td>\n",
              "    </tr>\n",
              "    <tr>\n",
              "      <th>3</th>\n",
              "      <td>ham</td>\n",
              "      <td>U dun say so early hor... U c already then say...</td>\n",
              "    </tr>\n",
              "    <tr>\n",
              "      <th>4</th>\n",
              "      <td>ham</td>\n",
              "      <td>Nah I don't think he goes to usf, he lives aro...</td>\n",
              "    </tr>\n",
              "    <tr>\n",
              "      <th>...</th>\n",
              "      <td>...</td>\n",
              "      <td>...</td>\n",
              "    </tr>\n",
              "    <tr>\n",
              "      <th>5567</th>\n",
              "      <td>spam</td>\n",
              "      <td>This is the 2nd time we have tried 2 contact u...</td>\n",
              "    </tr>\n",
              "    <tr>\n",
              "      <th>5568</th>\n",
              "      <td>ham</td>\n",
              "      <td>Will ü b going to esplanade fr home?</td>\n",
              "    </tr>\n",
              "    <tr>\n",
              "      <th>5569</th>\n",
              "      <td>ham</td>\n",
              "      <td>Pity, * was in mood for that. So...any other s...</td>\n",
              "    </tr>\n",
              "    <tr>\n",
              "      <th>5570</th>\n",
              "      <td>ham</td>\n",
              "      <td>The guy did some bitching but I acted like i'd...</td>\n",
              "    </tr>\n",
              "    <tr>\n",
              "      <th>5571</th>\n",
              "      <td>ham</td>\n",
              "      <td>Rofl. Its true to its name</td>\n",
              "    </tr>\n",
              "  </tbody>\n",
              "</table>\n",
              "<p>5572 rows × 2 columns</p>\n",
              "</div>\n",
              "      <button class=\"colab-df-convert\" onclick=\"convertToInteractive('df-383f8b9d-153a-470e-aafc-42488a72d97b')\"\n",
              "              title=\"Convert this dataframe to an interactive table.\"\n",
              "              style=\"display:none;\">\n",
              "        \n",
              "  <svg xmlns=\"http://www.w3.org/2000/svg\" height=\"24px\"viewBox=\"0 0 24 24\"\n",
              "       width=\"24px\">\n",
              "    <path d=\"M0 0h24v24H0V0z\" fill=\"none\"/>\n",
              "    <path d=\"M18.56 5.44l.94 2.06.94-2.06 2.06-.94-2.06-.94-.94-2.06-.94 2.06-2.06.94zm-11 1L8.5 8.5l.94-2.06 2.06-.94-2.06-.94L8.5 2.5l-.94 2.06-2.06.94zm10 10l.94 2.06.94-2.06 2.06-.94-2.06-.94-.94-2.06-.94 2.06-2.06.94z\"/><path d=\"M17.41 7.96l-1.37-1.37c-.4-.4-.92-.59-1.43-.59-.52 0-1.04.2-1.43.59L10.3 9.45l-7.72 7.72c-.78.78-.78 2.05 0 2.83L4 21.41c.39.39.9.59 1.41.59.51 0 1.02-.2 1.41-.59l7.78-7.78 2.81-2.81c.8-.78.8-2.07 0-2.86zM5.41 20L4 18.59l7.72-7.72 1.47 1.35L5.41 20z\"/>\n",
              "  </svg>\n",
              "      </button>\n",
              "      \n",
              "  <style>\n",
              "    .colab-df-container {\n",
              "      display:flex;\n",
              "      flex-wrap:wrap;\n",
              "      gap: 12px;\n",
              "    }\n",
              "\n",
              "    .colab-df-convert {\n",
              "      background-color: #E8F0FE;\n",
              "      border: none;\n",
              "      border-radius: 50%;\n",
              "      cursor: pointer;\n",
              "      display: none;\n",
              "      fill: #1967D2;\n",
              "      height: 32px;\n",
              "      padding: 0 0 0 0;\n",
              "      width: 32px;\n",
              "    }\n",
              "\n",
              "    .colab-df-convert:hover {\n",
              "      background-color: #E2EBFA;\n",
              "      box-shadow: 0px 1px 2px rgba(60, 64, 67, 0.3), 0px 1px 3px 1px rgba(60, 64, 67, 0.15);\n",
              "      fill: #174EA6;\n",
              "    }\n",
              "\n",
              "    [theme=dark] .colab-df-convert {\n",
              "      background-color: #3B4455;\n",
              "      fill: #D2E3FC;\n",
              "    }\n",
              "\n",
              "    [theme=dark] .colab-df-convert:hover {\n",
              "      background-color: #434B5C;\n",
              "      box-shadow: 0px 1px 3px 1px rgba(0, 0, 0, 0.15);\n",
              "      filter: drop-shadow(0px 1px 2px rgba(0, 0, 0, 0.3));\n",
              "      fill: #FFFFFF;\n",
              "    }\n",
              "  </style>\n",
              "\n",
              "      <script>\n",
              "        const buttonEl =\n",
              "          document.querySelector('#df-383f8b9d-153a-470e-aafc-42488a72d97b button.colab-df-convert');\n",
              "        buttonEl.style.display =\n",
              "          google.colab.kernel.accessAllowed ? 'block' : 'none';\n",
              "\n",
              "        async function convertToInteractive(key) {\n",
              "          const element = document.querySelector('#df-383f8b9d-153a-470e-aafc-42488a72d97b');\n",
              "          const dataTable =\n",
              "            await google.colab.kernel.invokeFunction('convertToInteractive',\n",
              "                                                     [key], {});\n",
              "          if (!dataTable) return;\n",
              "\n",
              "          const docLinkHtml = 'Like what you see? Visit the ' +\n",
              "            '<a target=\"_blank\" href=https://colab.research.google.com/notebooks/data_table.ipynb>data table notebook</a>'\n",
              "            + ' to learn more about interactive tables.';\n",
              "          element.innerHTML = '';\n",
              "          dataTable['output_type'] = 'display_data';\n",
              "          await google.colab.output.renderOutput(dataTable, element);\n",
              "          const docLink = document.createElement('div');\n",
              "          docLink.innerHTML = docLinkHtml;\n",
              "          element.appendChild(docLink);\n",
              "        }\n",
              "      </script>\n",
              "    </div>\n",
              "  </div>\n",
              "  "
            ]
          },
          "metadata": {},
          "execution_count": 52
        }
      ]
    },
    {
      "cell_type": "code",
      "source": [
        "print(data.shape, \"\\n\")\n",
        "print(data.head())"
      ],
      "metadata": {
        "id": "ZFWLcukVw6u8",
        "colab": {
          "base_uri": "https://localhost:8080/"
        },
        "outputId": "43337c0c-caa7-4a54-d320-3d35a6888275"
      },
      "execution_count": null,
      "outputs": [
        {
          "output_type": "stream",
          "name": "stdout",
          "text": [
            "(5572, 2) \n",
            "\n",
            "  Category                                            Message\n",
            "0      ham  Go until jurong point, crazy.. Available only ...\n",
            "1      ham                      Ok lar... Joking wif u oni...\n",
            "2     spam  Free entry in 2 a wkly comp to win FA Cup fina...\n",
            "3      ham  U dun say so early hor... U c already then say...\n",
            "4      ham  Nah I don't think he goes to usf, he lives aro...\n"
          ]
        }
      ]
    },
    {
      "cell_type": "code",
      "source": [
        "data['Category'] = data['Category'].apply(lambda x:1 if x=='spam' else 0)"
      ],
      "metadata": {
        "id": "tSx3kawaw62e"
      },
      "execution_count": null,
      "outputs": []
    },
    {
      "cell_type": "code",
      "source": [
        "data.head()"
      ],
      "metadata": {
        "colab": {
          "base_uri": "https://localhost:8080/",
          "height": 206
        },
        "id": "2uF9pL264ZqF",
        "outputId": "35070017-b53e-473f-f457-9add22ab795f"
      },
      "execution_count": null,
      "outputs": [
        {
          "output_type": "execute_result",
          "data": {
            "text/plain": [
              "   Category                                            Message\n",
              "0         0  Go until jurong point, crazy.. Available only ...\n",
              "1         0                      Ok lar... Joking wif u oni...\n",
              "2         1  Free entry in 2 a wkly comp to win FA Cup fina...\n",
              "3         0  U dun say so early hor... U c already then say...\n",
              "4         0  Nah I don't think he goes to usf, he lives aro..."
            ],
            "text/html": [
              "\n",
              "  <div id=\"df-7fb6fd63-e602-45e8-b60f-a3f87a1ddde1\">\n",
              "    <div class=\"colab-df-container\">\n",
              "      <div>\n",
              "<style scoped>\n",
              "    .dataframe tbody tr th:only-of-type {\n",
              "        vertical-align: middle;\n",
              "    }\n",
              "\n",
              "    .dataframe tbody tr th {\n",
              "        vertical-align: top;\n",
              "    }\n",
              "\n",
              "    .dataframe thead th {\n",
              "        text-align: right;\n",
              "    }\n",
              "</style>\n",
              "<table border=\"1\" class=\"dataframe\">\n",
              "  <thead>\n",
              "    <tr style=\"text-align: right;\">\n",
              "      <th></th>\n",
              "      <th>Category</th>\n",
              "      <th>Message</th>\n",
              "    </tr>\n",
              "  </thead>\n",
              "  <tbody>\n",
              "    <tr>\n",
              "      <th>0</th>\n",
              "      <td>0</td>\n",
              "      <td>Go until jurong point, crazy.. Available only ...</td>\n",
              "    </tr>\n",
              "    <tr>\n",
              "      <th>1</th>\n",
              "      <td>0</td>\n",
              "      <td>Ok lar... Joking wif u oni...</td>\n",
              "    </tr>\n",
              "    <tr>\n",
              "      <th>2</th>\n",
              "      <td>1</td>\n",
              "      <td>Free entry in 2 a wkly comp to win FA Cup fina...</td>\n",
              "    </tr>\n",
              "    <tr>\n",
              "      <th>3</th>\n",
              "      <td>0</td>\n",
              "      <td>U dun say so early hor... U c already then say...</td>\n",
              "    </tr>\n",
              "    <tr>\n",
              "      <th>4</th>\n",
              "      <td>0</td>\n",
              "      <td>Nah I don't think he goes to usf, he lives aro...</td>\n",
              "    </tr>\n",
              "  </tbody>\n",
              "</table>\n",
              "</div>\n",
              "      <button class=\"colab-df-convert\" onclick=\"convertToInteractive('df-7fb6fd63-e602-45e8-b60f-a3f87a1ddde1')\"\n",
              "              title=\"Convert this dataframe to an interactive table.\"\n",
              "              style=\"display:none;\">\n",
              "        \n",
              "  <svg xmlns=\"http://www.w3.org/2000/svg\" height=\"24px\"viewBox=\"0 0 24 24\"\n",
              "       width=\"24px\">\n",
              "    <path d=\"M0 0h24v24H0V0z\" fill=\"none\"/>\n",
              "    <path d=\"M18.56 5.44l.94 2.06.94-2.06 2.06-.94-2.06-.94-.94-2.06-.94 2.06-2.06.94zm-11 1L8.5 8.5l.94-2.06 2.06-.94-2.06-.94L8.5 2.5l-.94 2.06-2.06.94zm10 10l.94 2.06.94-2.06 2.06-.94-2.06-.94-.94-2.06-.94 2.06-2.06.94z\"/><path d=\"M17.41 7.96l-1.37-1.37c-.4-.4-.92-.59-1.43-.59-.52 0-1.04.2-1.43.59L10.3 9.45l-7.72 7.72c-.78.78-.78 2.05 0 2.83L4 21.41c.39.39.9.59 1.41.59.51 0 1.02-.2 1.41-.59l7.78-7.78 2.81-2.81c.8-.78.8-2.07 0-2.86zM5.41 20L4 18.59l7.72-7.72 1.47 1.35L5.41 20z\"/>\n",
              "  </svg>\n",
              "      </button>\n",
              "      \n",
              "  <style>\n",
              "    .colab-df-container {\n",
              "      display:flex;\n",
              "      flex-wrap:wrap;\n",
              "      gap: 12px;\n",
              "    }\n",
              "\n",
              "    .colab-df-convert {\n",
              "      background-color: #E8F0FE;\n",
              "      border: none;\n",
              "      border-radius: 50%;\n",
              "      cursor: pointer;\n",
              "      display: none;\n",
              "      fill: #1967D2;\n",
              "      height: 32px;\n",
              "      padding: 0 0 0 0;\n",
              "      width: 32px;\n",
              "    }\n",
              "\n",
              "    .colab-df-convert:hover {\n",
              "      background-color: #E2EBFA;\n",
              "      box-shadow: 0px 1px 2px rgba(60, 64, 67, 0.3), 0px 1px 3px 1px rgba(60, 64, 67, 0.15);\n",
              "      fill: #174EA6;\n",
              "    }\n",
              "\n",
              "    [theme=dark] .colab-df-convert {\n",
              "      background-color: #3B4455;\n",
              "      fill: #D2E3FC;\n",
              "    }\n",
              "\n",
              "    [theme=dark] .colab-df-convert:hover {\n",
              "      background-color: #434B5C;\n",
              "      box-shadow: 0px 1px 3px 1px rgba(0, 0, 0, 0.15);\n",
              "      filter: drop-shadow(0px 1px 2px rgba(0, 0, 0, 0.3));\n",
              "      fill: #FFFFFF;\n",
              "    }\n",
              "  </style>\n",
              "\n",
              "      <script>\n",
              "        const buttonEl =\n",
              "          document.querySelector('#df-7fb6fd63-e602-45e8-b60f-a3f87a1ddde1 button.colab-df-convert');\n",
              "        buttonEl.style.display =\n",
              "          google.colab.kernel.accessAllowed ? 'block' : 'none';\n",
              "\n",
              "        async function convertToInteractive(key) {\n",
              "          const element = document.querySelector('#df-7fb6fd63-e602-45e8-b60f-a3f87a1ddde1');\n",
              "          const dataTable =\n",
              "            await google.colab.kernel.invokeFunction('convertToInteractive',\n",
              "                                                     [key], {});\n",
              "          if (!dataTable) return;\n",
              "\n",
              "          const docLinkHtml = 'Like what you see? Visit the ' +\n",
              "            '<a target=\"_blank\" href=https://colab.research.google.com/notebooks/data_table.ipynb>data table notebook</a>'\n",
              "            + ' to learn more about interactive tables.';\n",
              "          element.innerHTML = '';\n",
              "          dataTable['output_type'] = 'display_data';\n",
              "          await google.colab.output.renderOutput(dataTable, element);\n",
              "          const docLink = document.createElement('div');\n",
              "          docLink.innerHTML = docLinkHtml;\n",
              "          element.appendChild(docLink);\n",
              "        }\n",
              "      </script>\n",
              "    </div>\n",
              "  </div>\n",
              "  "
            ]
          },
          "metadata": {},
          "execution_count": 55
        }
      ]
    },
    {
      "cell_type": "code",
      "source": [
        "sns.countplot(x='Category', data=data)\n",
        "plt.show()"
      ],
      "metadata": {
        "colab": {
          "base_uri": "https://localhost:8080/",
          "height": 450
        },
        "id": "IoOMmDVI4ZeY",
        "outputId": "33e4e5a5-b79c-4b61-b4d6-2b964d11b377"
      },
      "execution_count": null,
      "outputs": [
        {
          "output_type": "display_data",
          "data": {
            "text/plain": [
              "<Figure size 640x480 with 1 Axes>"
            ],
            "image/png": "[encoded data removed]"
          },
          "metadata": {}
        }
      ]
    },
    {
      "cell_type": "code",
      "source": [
        "# Downsampling to balance the dataset\n",
        "ham_msg = data[data.Category == 0]\n",
        "spam_msg = data[data.Category == 1]\n",
        "# ham_msg = ham_msg.sample(n=len(spam_msg),\n",
        "#                          random_state=42)         ## Wondering if I shouldn't downsample, and keep the ham messages the size that they are\n",
        " \n",
        "# Plotting the counts of down sampled dataset\n",
        "balanced_data = ham_msg.append(spam_msg)\\\n",
        "    .reset_index(drop=True)\n",
        "plt.figure(figsize=(8, 6))\n",
        "sns.countplot(data = balanced_data, x='Category')\n",
        "plt.title('Distribution of Ham and Spam email messages after downsampling')\n",
        "plt.xlabel('Message types')"
      ],
      "metadata": {
        "colab": {
          "base_uri": "https://localhost:8080/",
          "height": 616
        },
        "id": "G_C4__hn4ZKn",
        "outputId": "369fe992-5e5c-4afa-b8c8-4dce855029f6"
      },
      "execution_count": null,
      "outputs": [
        {
          "output_type": "stream",
          "name": "stderr",
          "text": [
            "<ipython-input-95-e9dc138b6fd2>:8: FutureWarning: The frame.append method is deprecated and will be removed from pandas in a future version. Use pandas.concat instead.\n",
            "  balanced_data = ham_msg.append(spam_msg)\\\n"
          ]
        },
        {
          "output_type": "execute_result",
          "data": {
            "text/plain": [
              "Text(0.5, 0, 'Message types')"
            ]
          },
          "metadata": {},
          "execution_count": 95
        },
        {
          "output_type": "display_data",
          "data": {
            "text/plain": [
              "<Figure size 800x600 with 1 Axes>"
            ],
            "image/png": "[encoded data removed]"
          },
          "metadata": {}
        }
      ]
    },
    {
      "cell_type": "code",
      "source": [
        "balanced_data['Message'] = balanced_data['Message'].str.replace('Subject', '')\n",
        "balanced_data.head()"
      ],
      "metadata": {
        "colab": {
          "base_uri": "https://localhost:8080/",
          "height": 206
        },
        "id": "kl4f7cy6IHLB",
        "outputId": "f488d107-163b-4981-d9e4-c579d3fc3985"
      },
      "execution_count": null,
      "outputs": [
        {
          "output_type": "execute_result",
          "data": {
            "text/plain": [
              "   Category                                            Message\n",
              "0         0  Go until jurong point, crazy.. Available only ...\n",
              "1         0                      Ok lar... Joking wif u oni...\n",
              "2         0  U dun say so early hor... U c already then say...\n",
              "3         0  Nah I don't think he goes to usf, he lives aro...\n",
              "4         0  Even my brother is not like to speak with me. ..."
            ],
            "text/html": [
              "\n",
              "  <div id=\"df-52034677-bce8-417c-9386-5fe6f3cbc914\">\n",
              "    <div class=\"colab-df-container\">\n",
              "      <div>\n",
              "<style scoped>\n",
              "    .dataframe tbody tr th:only-of-type {\n",
              "        vertical-align: middle;\n",
              "    }\n",
              "\n",
              "    .dataframe tbody tr th {\n",
              "        vertical-align: top;\n",
              "    }\n",
              "\n",
              "    .dataframe thead th {\n",
              "        text-align: right;\n",
              "    }\n",
              "</style>\n",
              "<table border=\"1\" class=\"dataframe\">\n",
              "  <thead>\n",
              "    <tr style=\"text-align: right;\">\n",
              "      <th></th>\n",
              "      <th>Category</th>\n",
              "      <th>Message</th>\n",
              "    </tr>\n",
              "  </thead>\n",
              "  <tbody>\n",
              "    <tr>\n",
              "      <th>0</th>\n",
              "      <td>0</td>\n",
              "      <td>Go until jurong point, crazy.. Available only ...</td>\n",
              "    </tr>\n",
              "    <tr>\n",
              "      <th>1</th>\n",
              "      <td>0</td>\n",
              "      <td>Ok lar... Joking wif u oni...</td>\n",
              "    </tr>\n",
              "    <tr>\n",
              "      <th>2</th>\n",
              "      <td>0</td>\n",
              "      <td>U dun say so early hor... U c already then say...</td>\n",
              "    </tr>\n",
              "    <tr>\n",
              "      <th>3</th>\n",
              "      <td>0</td>\n",
              "      <td>Nah I don't think he goes to usf, he lives aro...</td>\n",
              "    </tr>\n",
              "    <tr>\n",
              "      <th>4</th>\n",
              "      <td>0</td>\n",
              "      <td>Even my brother is not like to speak with me. ...</td>\n",
              "    </tr>\n",
              "  </tbody>\n",
              "</table>\n",
              "</div>\n",
              "      <button class=\"colab-df-convert\" onclick=\"convertToInteractive('df-52034677-bce8-417c-9386-5fe6f3cbc914')\"\n",
              "              title=\"Convert this dataframe to an interactive table.\"\n",
              "              style=\"display:none;\">\n",
              "        \n",
              "  <svg xmlns=\"http://www.w3.org/2000/svg\" height=\"24px\"viewBox=\"0 0 24 24\"\n",
              "       width=\"24px\">\n",
              "    <path d=\"M0 0h24v24H0V0z\" fill=\"none\"/>\n",
              "    <path d=\"M18.56 5.44l.94 2.06.94-2.06 2.06-.94-2.06-.94-.94-2.06-.94 2.06-2.06.94zm-11 1L8.5 8.5l.94-2.06 2.06-.94-2.06-.94L8.5 2.5l-.94 2.06-2.06.94zm10 10l.94 2.06.94-2.06 2.06-.94-2.06-.94-.94-2.06-.94 2.06-2.06.94z\"/><path d=\"M17.41 7.96l-1.37-1.37c-.4-.4-.92-.59-1.43-.59-.52 0-1.04.2-1.43.59L10.3 9.45l-7.72 7.72c-.78.78-.78 2.05 0 2.83L4 21.41c.39.39.9.59 1.41.59.51 0 1.02-.2 1.41-.59l7.78-7.78 2.81-2.81c.8-.78.8-2.07 0-2.86zM5.41 20L4 18.59l7.72-7.72 1.47 1.35L5.41 20z\"/>\n",
              "  </svg>\n",
              "      </button>\n",
              "      \n",
              "  <style>\n",
              "    .colab-df-container {\n",
              "      display:flex;\n",
              "      flex-wrap:wrap;\n",
              "      gap: 12px;\n",
              "    }\n",
              "\n",
              "    .colab-df-convert {\n",
              "      background-color: #E8F0FE;\n",
              "      border: none;\n",
              "      border-radius: 50%;\n",
              "      cursor: pointer;\n",
              "      display: none;\n",
              "      fill: #1967D2;\n",
              "      height: 32px;\n",
              "      padding: 0 0 0 0;\n",
              "      width: 32px;\n",
              "    }\n",
              "\n",
              "    .colab-df-convert:hover {\n",
              "      background-color: #E2EBFA;\n",
              "      box-shadow: 0px 1px 2px rgba(60, 64, 67, 0.3), 0px 1px 3px 1px rgba(60, 64, 67, 0.15);\n",
              "      fill: #174EA6;\n",
              "    }\n",
              "\n",
              "    [theme=dark] .colab-df-convert {\n",
              "      background-color: #3B4455;\n",
              "      fill: #D2E3FC;\n",
              "    }\n",
              "\n",
              "    [theme=dark] .colab-df-convert:hover {\n",
              "      background-color: #434B5C;\n",
              "      box-shadow: 0px 1px 3px 1px rgba(0, 0, 0, 0.15);\n",
              "      filter: drop-shadow(0px 1px 2px rgba(0, 0, 0, 0.3));\n",
              "      fill: #FFFFFF;\n",
              "    }\n",
              "  </style>\n",
              "\n",
              "      <script>\n",
              "        const buttonEl =\n",
              "          document.querySelector('#df-52034677-bce8-417c-9386-5fe6f3cbc914 button.colab-df-convert');\n",
              "        buttonEl.style.display =\n",
              "          google.colab.kernel.accessAllowed ? 'block' : 'none';\n",
              "\n",
              "        async function convertToInteractive(key) {\n",
              "          const element = document.querySelector('#df-52034677-bce8-417c-9386-5fe6f3cbc914');\n",
              "          const dataTable =\n",
              "            await google.colab.kernel.invokeFunction('convertToInteractive',\n",
              "                                                     [key], {});\n",
              "          if (!dataTable) return;\n",
              "\n",
              "          const docLinkHtml = 'Like what you see? Visit the ' +\n",
              "            '<a target=\"_blank\" href=https://colab.research.google.com/notebooks/data_table.ipynb>data table notebook</a>'\n",
              "            + ' to learn more about interactive tables.';\n",
              "          element.innerHTML = '';\n",
              "          dataTable['output_type'] = 'display_data';\n",
              "          await google.colab.output.renderOutput(dataTable, element);\n",
              "          const docLink = document.createElement('div');\n",
              "          docLink.innerHTML = docLinkHtml;\n",
              "          element.appendChild(docLink);\n",
              "        }\n",
              "      </script>\n",
              "    </div>\n",
              "  </div>\n",
              "  "
            ]
          },
          "metadata": {},
          "execution_count": 96
        }
      ]
    },
    {
      "cell_type": "code",
      "source": [
        "punctuations_list = string.punctuation"
      ],
      "metadata": {
        "id": "KJK9Ta7LIbL4"
      },
      "execution_count": null,
      "outputs": []
    },
    {
      "cell_type": "code",
      "source": [
        "def remove_punctuations(text):\n",
        "    temp = str.maketrans('', '', punctuations_list)\n",
        "    return text.translate(temp)"
      ],
      "metadata": {
        "id": "NQj4ZWpyIdvO"
      },
      "execution_count": null,
      "outputs": []
    },
    {
      "cell_type": "code",
      "source": [
        "balanced_data['Message'] = balanced_data['Message'].apply(lambda x: remove_punctuations(x))\n",
        "balanced_data.head()"
      ],
      "metadata": {
        "colab": {
          "base_uri": "https://localhost:8080/",
          "height": 206
        },
        "id": "1M0Gx05aIfte",
        "outputId": "3d2da00b-6fcf-4f15-c3a7-4f0a4e898ac9"
      },
      "execution_count": null,
      "outputs": [
        {
          "output_type": "execute_result",
          "data": {
            "text/plain": [
              "   Category                                            Message\n",
              "0         0  Go until jurong point crazy Available only in ...\n",
              "1         0                            Ok lar Joking wif u oni\n",
              "2         0        U dun say so early hor U c already then say\n",
              "3         0  Nah I dont think he goes to usf he lives aroun...\n",
              "4         0  Even my brother is not like to speak with me T..."
            ],
            "text/html": [
              "\n",
              "  <div id=\"df-9501aa6d-1ace-4ce9-9e3b-65ba74f33b6c\">\n",
              "    <div class=\"colab-df-container\">\n",
              "      <div>\n",
              "<style scoped>\n",
              "    .dataframe tbody tr th:only-of-type {\n",
              "        vertical-align: middle;\n",
              "    }\n",
              "\n",
              "    .dataframe tbody tr th {\n",
              "        vertical-align: top;\n",
              "    }\n",
              "\n",
              "    .dataframe thead th {\n",
              "        text-align: right;\n",
              "    }\n",
              "</style>\n",
              "<table border=\"1\" class=\"dataframe\">\n",
              "  <thead>\n",
              "    <tr style=\"text-align: right;\">\n",
              "      <th></th>\n",
              "      <th>Category</th>\n",
              "      <th>Message</th>\n",
              "    </tr>\n",
              "  </thead>\n",
              "  <tbody>\n",
              "    <tr>\n",
              "      <th>0</th>\n",
              "      <td>0</td>\n",
              "      <td>Go until jurong point crazy Available only in ...</td>\n",
              "    </tr>\n",
              "    <tr>\n",
              "      <th>1</th>\n",
              "      <td>0</td>\n",
              "      <td>Ok lar Joking wif u oni</td>\n",
              "    </tr>\n",
              "    <tr>\n",
              "      <th>2</th>\n",
              "      <td>0</td>\n",
              "      <td>U dun say so early hor U c already then say</td>\n",
              "    </tr>\n",
              "    <tr>\n",
              "      <th>3</th>\n",
              "      <td>0</td>\n",
              "      <td>Nah I dont think he goes to usf he lives aroun...</td>\n",
              "    </tr>\n",
              "    <tr>\n",
              "      <th>4</th>\n",
              "      <td>0</td>\n",
              "      <td>Even my brother is not like to speak with me T...</td>\n",
              "    </tr>\n",
              "  </tbody>\n",
              "</table>\n",
              "</div>\n",
              "      <button class=\"colab-df-convert\" onclick=\"convertToInteractive('df-9501aa6d-1ace-4ce9-9e3b-65ba74f33b6c')\"\n",
              "              title=\"Convert this dataframe to an interactive table.\"\n",
              "              style=\"display:none;\">\n",
              "        \n",
              "  <svg xmlns=\"http://www.w3.org/2000/svg\" height=\"24px\"viewBox=\"0 0 24 24\"\n",
              "       width=\"24px\">\n",
              "    <path d=\"M0 0h24v24H0V0z\" fill=\"none\"/>\n",
              "    <path d=\"M18.56 5.44l.94 2.06.94-2.06 2.06-.94-2.06-.94-.94-2.06-.94 2.06-2.06.94zm-11 1L8.5 8.5l.94-2.06 2.06-.94-2.06-.94L8.5 2.5l-.94 2.06-2.06.94zm10 10l.94 2.06.94-2.06 2.06-.94-2.06-.94-.94-2.06-.94 2.06-2.06.94z\"/><path d=\"M17.41 7.96l-1.37-1.37c-.4-.4-.92-.59-1.43-.59-.52 0-1.04.2-1.43.59L10.3 9.45l-7.72 7.72c-.78.78-.78 2.05 0 2.83L4 21.41c.39.39.9.59 1.41.59.51 0 1.02-.2 1.41-.59l7.78-7.78 2.81-2.81c.8-.78.8-2.07 0-2.86zM5.41 20L4 18.59l7.72-7.72 1.47 1.35L5.41 20z\"/>\n",
              "  </svg>\n",
              "      </button>\n",
              "      \n",
              "  <style>\n",
              "    .colab-df-container {\n",
              "      display:flex;\n",
              "      flex-wrap:wrap;\n",
              "      gap: 12px;\n",
              "    }\n",
              "\n",
              "    .colab-df-convert {\n",
              "      background-color: #E8F0FE;\n",
              "      border: none;\n",
              "      border-radius: 50%;\n",
              "      cursor: pointer;\n",
              "      display: none;\n",
              "      fill: #1967D2;\n",
              "      height: 32px;\n",
              "      padding: 0 0 0 0;\n",
              "      width: 32px;\n",
              "    }\n",
              "\n",
              "    .colab-df-convert:hover {\n",
              "      background-color: #E2EBFA;\n",
              "      box-shadow: 0px 1px 2px rgba(60, 64, 67, 0.3), 0px 1px 3px 1px rgba(60, 64, 67, 0.15);\n",
              "      fill: #174EA6;\n",
              "    }\n",
              "\n",
              "    [theme=dark] .colab-df-convert {\n",
              "      background-color: #3B4455;\n",
              "      fill: #D2E3FC;\n",
              "    }\n",
              "\n",
              "    [theme=dark] .colab-df-convert:hover {\n",
              "      background-color: #434B5C;\n",
              "      box-shadow: 0px 1px 3px 1px rgba(0, 0, 0, 0.15);\n",
              "      filter: drop-shadow(0px 1px 2px rgba(0, 0, 0, 0.3));\n",
              "      fill: #FFFFFF;\n",
              "    }\n",
              "  </style>\n",
              "\n",
              "      <script>\n",
              "        const buttonEl =\n",
              "          document.querySelector('#df-9501aa6d-1ace-4ce9-9e3b-65ba74f33b6c button.colab-df-convert');\n",
              "        buttonEl.style.display =\n",
              "          google.colab.kernel.accessAllowed ? 'block' : 'none';\n",
              "\n",
              "        async function convertToInteractive(key) {\n",
              "          const element = document.querySelector('#df-9501aa6d-1ace-4ce9-9e3b-65ba74f33b6c');\n",
              "          const dataTable =\n",
              "            await google.colab.kernel.invokeFunction('convertToInteractive',\n",
              "                                                     [key], {});\n",
              "          if (!dataTable) return;\n",
              "\n",
              "          const docLinkHtml = 'Like what you see? Visit the ' +\n",
              "            '<a target=\"_blank\" href=https://colab.research.google.com/notebooks/data_table.ipynb>data table notebook</a>'\n",
              "            + ' to learn more about interactive tables.';\n",
              "          element.innerHTML = '';\n",
              "          dataTable['output_type'] = 'display_data';\n",
              "          await google.colab.output.renderOutput(dataTable, element);\n",
              "          const docLink = document.createElement('div');\n",
              "          docLink.innerHTML = docLinkHtml;\n",
              "          element.appendChild(docLink);\n",
              "        }\n",
              "      </script>\n",
              "    </div>\n",
              "  </div>\n",
              "  "
            ]
          },
          "metadata": {},
          "execution_count": 99
        }
      ]
    },
    {
      "cell_type": "code",
      "source": [
        "def remove_stopwords(text):\n",
        "    stop_words = stopwords.words('english')\n",
        " \n",
        "    imp_words = []\n",
        " \n",
        "    # Storing the important words\n",
        "    for word in str(text).split():\n",
        "        word = word.lower()\n",
        " \n",
        "        if word not in stop_words:\n",
        "            imp_words.append(word)\n",
        "    output = \" \".join(imp_words)\n",
        "    return output"
      ],
      "metadata": {
        "id": "NgiL92iMIhqV"
      },
      "execution_count": null,
      "outputs": []
    },
    {
      "cell_type": "code",
      "source": [
        "balanced_data['Message'] = balanced_data['Message'].apply(lambda text: remove_stopwords(text))\n",
        "balanced_data.head()"
      ],
      "metadata": {
        "colab": {
          "base_uri": "https://localhost:8080/",
          "height": 206
        },
        "id": "s4r5UhXaIjsU",
        "outputId": "ddc331a1-11ea-4a9e-dd4e-0bd1641019e8"
      },
      "execution_count": null,
      "outputs": [
        {
          "output_type": "execute_result",
          "data": {
            "text/plain": [
              "   Category                                            Message\n",
              "0         0  go jurong point crazy available bugis n great ...\n",
              "1         0                            ok lar joking wif u oni\n",
              "2         0                u dun say early hor u c already say\n",
              "3         0        nah dont think goes usf lives around though\n",
              "4         0     even brother like speak treat like aids patent"
            ],
            "text/html": [
              "\n",
              "  <div id=\"df-8ec3f5c4-184c-4212-b9b9-e29458f0b30c\">\n",
              "    <div class=\"colab-df-container\">\n",
              "      <div>\n",
              "<style scoped>\n",
              "    .dataframe tbody tr th:only-of-type {\n",
              "        vertical-align: middle;\n",
              "    }\n",
              "\n",
              "    .dataframe tbody tr th {\n",
              "        vertical-align: top;\n",
              "    }\n",
              "\n",
              "    .dataframe thead th {\n",
              "        text-align: right;\n",
              "    }\n",
              "</style>\n",
              "<table border=\"1\" class=\"dataframe\">\n",
              "  <thead>\n",
              "    <tr style=\"text-align: right;\">\n",
              "      <th></th>\n",
              "      <th>Category</th>\n",
              "      <th>Message</th>\n",
              "    </tr>\n",
              "  </thead>\n",
              "  <tbody>\n",
              "    <tr>\n",
              "      <th>0</th>\n",
              "      <td>0</td>\n",
              "      <td>go jurong point crazy available bugis n great ...</td>\n",
              "    </tr>\n",
              "    <tr>\n",
              "      <th>1</th>\n",
              "      <td>0</td>\n",
              "      <td>ok lar joking wif u oni</td>\n",
              "    </tr>\n",
              "    <tr>\n",
              "      <th>2</th>\n",
              "      <td>0</td>\n",
              "      <td>u dun say early hor u c already say</td>\n",
              "    </tr>\n",
              "    <tr>\n",
              "      <th>3</th>\n",
              "      <td>0</td>\n",
              "      <td>nah dont think goes usf lives around though</td>\n",
              "    </tr>\n",
              "    <tr>\n",
              "      <th>4</th>\n",
              "      <td>0</td>\n",
              "      <td>even brother like speak treat like aids patent</td>\n",
              "    </tr>\n",
              "  </tbody>\n",
              "</table>\n",
              "</div>\n",
              "      <button class=\"colab-df-convert\" onclick=\"convertToInteractive('df-8ec3f5c4-184c-4212-b9b9-e29458f0b30c')\"\n",
              "              title=\"Convert this dataframe to an interactive table.\"\n",
              "              style=\"display:none;\">\n",
              "        \n",
              "  <svg xmlns=\"http://www.w3.org/2000/svg\" height=\"24px\"viewBox=\"0 0 24 24\"\n",
              "       width=\"24px\">\n",
              "    <path d=\"M0 0h24v24H0V0z\" fill=\"none\"/>\n",
              "    <path d=\"M18.56 5.44l.94 2.06.94-2.06 2.06-.94-2.06-.94-.94-2.06-.94 2.06-2.06.94zm-11 1L8.5 8.5l.94-2.06 2.06-.94-2.06-.94L8.5 2.5l-.94 2.06-2.06.94zm10 10l.94 2.06.94-2.06 2.06-.94-2.06-.94-.94-2.06-.94 2.06-2.06.94z\"/><path d=\"M17.41 7.96l-1.37-1.37c-.4-.4-.92-.59-1.43-.59-.52 0-1.04.2-1.43.59L10.3 9.45l-7.72 7.72c-.78.78-.78 2.05 0 2.83L4 21.41c.39.39.9.59 1.41.59.51 0 1.02-.2 1.41-.59l7.78-7.78 2.81-2.81c.8-.78.8-2.07 0-2.86zM5.41 20L4 18.59l7.72-7.72 1.47 1.35L5.41 20z\"/>\n",
              "  </svg>\n",
              "      </button>\n",
              "      \n",
              "  <style>\n",
              "    .colab-df-container {\n",
              "      display:flex;\n",
              "      flex-wrap:wrap;\n",
              "      gap: 12px;\n",
              "    }\n",
              "\n",
              "    .colab-df-convert {\n",
              "      background-color: #E8F0FE;\n",
              "      border: none;\n",
              "      border-radius: 50%;\n",
              "      cursor: pointer;\n",
              "      display: none;\n",
              "      fill: #1967D2;\n",
              "      height: 32px;\n",
              "      padding: 0 0 0 0;\n",
              "      width: 32px;\n",
              "    }\n",
              "\n",
              "    .colab-df-convert:hover {\n",
              "      background-color: #E2EBFA;\n",
              "      box-shadow: 0px 1px 2px rgba(60, 64, 67, 0.3), 0px 1px 3px 1px rgba(60, 64, 67, 0.15);\n",
              "      fill: #174EA6;\n",
              "    }\n",
              "\n",
              "    [theme=dark] .colab-df-convert {\n",
              "      background-color: #3B4455;\n",
              "      fill: #D2E3FC;\n",
              "    }\n",
              "\n",
              "    [theme=dark] .colab-df-convert:hover {\n",
              "      background-color: #434B5C;\n",
              "      box-shadow: 0px 1px 3px 1px rgba(0, 0, 0, 0.15);\n",
              "      filter: drop-shadow(0px 1px 2px rgba(0, 0, 0, 0.3));\n",
              "      fill: #FFFFFF;\n",
              "    }\n",
              "  </style>\n",
              "\n",
              "      <script>\n",
              "        const buttonEl =\n",
              "          document.querySelector('#df-8ec3f5c4-184c-4212-b9b9-e29458f0b30c button.colab-df-convert');\n",
              "        buttonEl.style.display =\n",
              "          google.colab.kernel.accessAllowed ? 'block' : 'none';\n",
              "\n",
              "        async function convertToInteractive(key) {\n",
              "          const element = document.querySelector('#df-8ec3f5c4-184c-4212-b9b9-e29458f0b30c');\n",
              "          const dataTable =\n",
              "            await google.colab.kernel.invokeFunction('convertToInteractive',\n",
              "                                                     [key], {});\n",
              "          if (!dataTable) return;\n",
              "\n",
              "          const docLinkHtml = 'Like what you see? Visit the ' +\n",
              "            '<a target=\"_blank\" href=https://colab.research.google.com/notebooks/data_table.ipynb>data table notebook</a>'\n",
              "            + ' to learn more about interactive tables.';\n",
              "          element.innerHTML = '';\n",
              "          dataTable['output_type'] = 'display_data';\n",
              "          await google.colab.output.renderOutput(dataTable, element);\n",
              "          const docLink = document.createElement('div');\n",
              "          docLink.innerHTML = docLinkHtml;\n",
              "          element.appendChild(docLink);\n",
              "        }\n",
              "      </script>\n",
              "    </div>\n",
              "  </div>\n",
              "  "
            ]
          },
          "metadata": {},
          "execution_count": 101
        }
      ]
    },
    {
      "cell_type": "code",
      "source": [
        "email_corpus = \" \".join(balanced_data[balanced_data['Category'] == 0]['Message'])\n",
        " \n",
        "plt.figure(figsize=(7, 7))\n",
        " \n",
        "wc = WordCloud(background_color='black', \n",
        "               max_words=100,\n",
        "               width=800,\n",
        "               height=400,\n",
        "               collocations=False).generate(email_corpus)\n",
        " \n",
        "plt.imshow(wc, interpolation='bilinear')\n",
        "plt.title(f'WordCloud for Non-Spam emails', fontsize=15)\n",
        "plt.axis('off')\n",
        "plt.show()\n",
        "\n",
        "\n",
        "\n",
        "email_corpus = \" \".join(balanced_data[balanced_data['Category'] == 1]['Message'])\n",
        " \n",
        "plt.figure(figsize=(7, 7))\n",
        " \n",
        "wc = WordCloud(background_color='black', \n",
        "               max_words=100,\n",
        "               width=800,\n",
        "               height=400,\n",
        "               collocations=False).generate(email_corpus)\n",
        " \n",
        "plt.imshow(wc, interpolation='bilinear')\n",
        "plt.title(f'WordCloud for Spam emails', fontsize=15)\n",
        "plt.axis('off')\n",
        "plt.show()"
      ],
      "metadata": {
        "colab": {
          "base_uri": "https://localhost:8080/",
          "height": 647
        },
        "id": "XujhaxdOIlrl",
        "outputId": "a4748145-5567-42d4-e419-6f030f9149be"
      },
      "execution_count": null,
      "outputs": [
        {
          "output_type": "display_data",
          "data": {
            "text/plain": [
              "<Figure size 700x700 with 1 Axes>"
            ],
            "image/png": "[encoded data removed]"
          },
          "metadata": {}
        },
        {
          "output_type": "display_data",
          "data": {
            "text/plain": [
              "<Figure size 700x700 with 1 Axes>"
            ],
            "image/png": "[encoded data removed]"
          },
          "metadata": {}
        }
      ]
    },
    {
      "cell_type": "code",
      "source": [
        "#train test split\n",
        "train_X, test_X, train_Y, test_Y = train_test_split(balanced_data['Message'],\n",
        "                                                    balanced_data['Category'],\n",
        "                                                    test_size = 0.2,\n",
        "                                                    random_state = 42)"
      ],
      "metadata": {
        "id": "VeV98g1wIn96"
      },
      "execution_count": null,
      "outputs": []
    },
    {
      "cell_type": "code",
      "source": [
        "print(\"train_X.shape: \", train_X.shape)\n",
        "print(\"test_X.shape:  \", test_X.shape)\n",
        "print(\"train_Y.shape: \", train_Y.shape)\n",
        "print(\"test_Y.shape:  \", test_Y.shape)"
      ],
      "metadata": {
        "colab": {
          "base_uri": "https://localhost:8080/"
        },
        "id": "3JIzkLRQIr1N",
        "outputId": "ed9c764e-b88e-4cac-936d-d559ef3ac33a"
      },
      "execution_count": null,
      "outputs": [
        {
          "output_type": "stream",
          "name": "stdout",
          "text": [
            "train_X.shape:  (4457,)\n",
            "test_X.shape:   (1115,)\n",
            "train_Y.shape:  (4457,)\n",
            "test_Y.shape:   (1115,)\n"
          ]
        }
      ]
    },
    {
      "cell_type": "code",
      "source": [
        "# Tokenize the text data\n",
        "tokenizer = Tokenizer()\n",
        "tokenizer.fit_on_texts(train_X)\n",
        " \n",
        "# Convert text to sequences\n",
        "train_sequences = tokenizer.texts_to_sequences(train_X)\n",
        "test_sequences = tokenizer.texts_to_sequences(test_X)\n",
        " \n",
        "# Pad sequences to have the same length\n",
        "max_len = 100  # maximum sequence length\n",
        "train_sequences = pad_sequences(train_sequences,\n",
        "                                maxlen=max_len,\n",
        "                                padding='post',\n",
        "                                truncating='post')\n",
        "test_sequences = pad_sequences(test_sequences,\n",
        "                               maxlen=max_len,\n",
        "                               padding='post',\n",
        "                               truncating='post')"
      ],
      "metadata": {
        "id": "Ot8j2Og1ItiR"
      },
      "execution_count": null,
      "outputs": []
    },
    {
      "cell_type": "markdown",
      "source": [
        "**Model Development and Evaluation**\n",
        "\n",
        "We will implement a Sequential model which will contain the following parts:\n",
        "\n",
        "- Three Embedding Layers to learn featured vector representations of the input vectors.\n",
        "- An LSTM layer to identify useful patterns in the sequence.\n",
        "- Then we will have one fully connected layer.\n",
        "- The final layer is the output layer which outputs probabilities for the two classes. "
      ],
      "metadata": {
        "id": "qZbxxlClJP1L"
      }
    },
    {
      "cell_type": "code",
      "source": [
        "# Build the model\n",
        "model = tf.keras.models.Sequential()\n",
        "model.add(tf.keras.layers.Embedding(input_dim=len(tokenizer.word_index) + 1,\n",
        "                                    output_dim=32,\n",
        "                                    input_length=max_len))\n",
        "model.add(tf.keras.layers.LSTM(16))\n",
        "model.add(tf.keras.layers.Dense(32, activation='relu'))\n",
        "model.add(tf.keras.layers.Dense(1, activation='sigmoid'))\n",
        " \n",
        "# Print the model summary\n",
        "model.summary()"
      ],
      "metadata": {
        "colab": {
          "base_uri": "https://localhost:8080/"
        },
        "id": "aWI4zDXrJKxQ",
        "outputId": "6998ad9b-0ab4-4f7d-8e60-915b3d2ae895"
      },
      "execution_count": null,
      "outputs": [
        {
          "output_type": "stream",
          "name": "stdout",
          "text": [
            "Model: \"sequential_1\"\n",
            "_________________________________________________________________\n",
            " Layer (type)                Output Shape              Param #   \n",
            "=================================================================\n",
            " embedding_1 (Embedding)     (None, 100, 32)           268064    \n",
            "                                                                 \n",
            " lstm_1 (LSTM)               (None, 16)                3136      \n",
            "                                                                 \n",
            " dense_2 (Dense)             (None, 32)                544       \n",
            "                                                                 \n",
            " dense_3 (Dense)             (None, 1)                 33        \n",
            "                                                                 \n",
            "=================================================================\n",
            "Total params: 271,777\n",
            "Trainable params: 271,777\n",
            "Non-trainable params: 0\n",
            "_________________________________________________________________\n"
          ]
        }
      ]
    },
    {
      "cell_type": "markdown",
      "source": [
        "**While compiling a model we provide these three essential parameters:**\n",
        "\n",
        "- optimizer – This is the method that helps to optimize the cost function by using gradient descent.\n",
        "- loss – The loss function by which we monitor whether the model is improving with training or not.\n",
        "- metrics – This helps to evaluate the model by predicting the training and the validation data."
      ],
      "metadata": {
        "id": "v2W-rkhcJang"
      }
    },
    {
      "cell_type": "code",
      "source": [
        "model.compile(loss = tf.keras.losses.BinaryCrossentropy(from_logits = True),\n",
        "              metrics = ['accuracy'],\n",
        "              optimizer = 'adam')"
      ],
      "metadata": {
        "id": "WavqgA9nJMhH"
      },
      "execution_count": null,
      "outputs": []
    },
    {
      "cell_type": "markdown",
      "source": [
        "**Callback**\n",
        "\n",
        "Callbacks are used to check whether the model is improving with each epoch or not. If not then what are the necessary steps to be taken like ReduceLROnPlateau decreases the learning rate further? Even then if model performance is not improving then training will be stopped by EarlyStopping. We can also define some custom callbacks to stop training in between if the desired results have been obtained early."
      ],
      "metadata": {
        "id": "myiEgKU0Jmf_"
      }
    },
    {
      "cell_type": "code",
      "source": [
        "es = EarlyStopping(patience=3,\n",
        "                   monitor = 'val_accuracy',\n",
        "                   restore_best_weights = True)\n",
        " \n",
        "lr = ReduceLROnPlateau(patience = 2,\n",
        "                       monitor = 'val_loss',\n",
        "                       factor = 0.5,\n",
        "                       verbose = 0)"
      ],
      "metadata": {
        "id": "SXPvA5atJhpd"
      },
      "execution_count": null,
      "outputs": []
    },
    {
      "cell_type": "code",
      "source": [
        "# Train the model\n",
        "history = model.fit(train_sequences, train_Y,\n",
        "                    validation_data=(test_sequences, test_Y),\n",
        "                    epochs=20,\n",
        "                    batch_size=32,\n",
        "                    callbacks = [lr, es]\n",
        "                   )"
      ],
      "metadata": {
        "colab": {
          "base_uri": "https://localhost:8080/"
        },
        "id": "2iIrBw93Jj1p",
        "outputId": "c0ed4dab-f9d2-448b-ca4d-9eeb3571929e"
      },
      "execution_count": null,
      "outputs": [
        {
          "output_type": "stream",
          "name": "stdout",
          "text": [
            "Epoch 1/20\n",
            "140/140 [==============================] - 9s 61ms/step - loss: 0.3920 - accuracy: 0.8676 - val_loss: 0.4066 - val_accuracy: 0.8592 - lr: 0.0010\n",
            "Epoch 2/20\n",
            "140/140 [==============================] - 8s 58ms/step - loss: 0.3918 - accuracy: 0.8676 - val_loss: 0.4075 - val_accuracy: 0.8592 - lr: 0.0010\n",
            "Epoch 3/20\n",
            "140/140 [==============================] - 9s 64ms/step - loss: 0.3915 - accuracy: 0.8676 - val_loss: 0.4076 - val_accuracy: 0.8592 - lr: 0.0010\n",
            "Epoch 4/20\n",
            "140/140 [==============================] - 8s 56ms/step - loss: 0.3913 - accuracy: 0.8676 - val_loss: 0.4071 - val_accuracy: 0.8592 - lr: 5.0000e-04\n"
          ]
        }
      ]
    },
    {
      "cell_type": "code",
      "source": [
        "# Train the model again with different epoch and batch sizes\n",
        "# history2 = model.fit(train_sequences, train_Y,\n",
        "#                     validation_data=(test_sequences, test_Y),\n",
        "#                     epochs=20,\n",
        "#                     batch_size=32,\n",
        "#                     callbacks = [lr, es]\n",
        "#                    )"
      ],
      "metadata": {
        "id": "oymrgxnHJuCM"
      },
      "execution_count": null,
      "outputs": []
    },
    {
      "cell_type": "code",
      "source": [
        "# Evaluate the model\n",
        "test_loss, test_accuracy = model.evaluate(test_sequences, test_Y)\n",
        "print('Test Loss :',test_loss)\n",
        "print('Test Accuracy :',test_accuracy)\n",
        "\n",
        "print(f'\\nThe training accuracy turns out to be {test_accuracy*100:.2f}%, which seems pretty good.')"
      ],
      "metadata": {
        "colab": {
          "base_uri": "https://localhost:8080/"
        },
        "id": "tq7kBfsMJyni",
        "outputId": "a89f7e81-c60a-41de-96bf-4066efead767"
      },
      "execution_count": null,
      "outputs": [
        {
          "output_type": "stream",
          "name": "stdout",
          "text": [
            "35/35 [==============================] - 1s 24ms/step - loss: 0.4066 - accuracy: 0.8592\n",
            "Test Loss : 0.4066051244735718\n",
            "Test Accuracy : 0.8591928482055664\n",
            "\n",
            "The training accuracy turns out to be 85.92%, which seems pretty good.\n"
          ]
        }
      ]
    },
    {
      "cell_type": "code",
      "source": [
        "# plt.plot(history.history['accuracy'], label='Training Accuracy')\n",
        "# plt.plot(history.history['val_accuracy'], label='Validation Accuracy')\n",
        "# plt.title('Model Accuracy')\n",
        "# plt.ylabel('Accuracy')\n",
        "# plt.xlabel('Epoch')\n",
        "# plt.legend()\n",
        "# plt.show()"
      ],
      "metadata": {
        "id": "DzPmEuYLKc1S"
      },
      "execution_count": null,
      "outputs": []
    },
    {
      "cell_type": "code",
      "source": [],
      "metadata": {
        "id": "XLoCOEQJOEey"
      },
      "execution_count": null,
      "outputs": []
    }
  ]
}